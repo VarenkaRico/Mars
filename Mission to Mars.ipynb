{
 "cells": [
  {
   "cell_type": "code",
   "execution_count": 1,
   "metadata": {},
   "outputs": [],
   "source": [
    "import requests\n",
    "from bs4 import BeautifulSoup as bs\n",
    "from splinter import Browser\n",
    "from selenium import webdriver\n",
    "import pandas as pd"
   ]
  },
  {
   "cell_type": "code",
   "execution_count": 2,
   "metadata": {},
   "outputs": [],
   "source": [
    "executable_path = {'executable_path': 'chromedriver.exe'}\n",
    "browser = Browser('chrome', **executable_path, headless=False)"
   ]
  },
  {
   "cell_type": "markdown",
   "metadata": {},
   "source": [
    "# NEWS"
   ]
  },
  {
   "cell_type": "code",
   "execution_count": 3,
   "metadata": {},
   "outputs": [],
   "source": [
    "url_news=\"https://mars.nasa.gov/news/\"\n",
    "browser.visit(url_news)\n",
    "html_news = browser.html\n",
    "soup_news=bs(html_news, 'html.parser')"
   ]
  },
  {
   "cell_type": "markdown",
   "metadata": {},
   "source": [
    "## Title"
   ]
  },
  {
   "cell_type": "code",
   "execution_count": 4,
   "metadata": {},
   "outputs": [
    {
     "data": {
      "text/plain": [
       "'NASA Invites Students to Name Mars 2020 Rover'"
      ]
     },
     "execution_count": 4,
     "metadata": {},
     "output_type": "execute_result"
    }
   ],
   "source": [
    "news_title=soup_news.find(\"li\", class_=\"slide\").\\\n",
    "    find(\"div\", class_=\"content_title\").text\n",
    "news_title\n"
   ]
  },
  {
   "cell_type": "markdown",
   "metadata": {},
   "source": [
    "# Article Teaser"
   ]
  },
  {
   "cell_type": "code",
   "execution_count": 5,
   "metadata": {},
   "outputs": [
    {
     "data": {
      "text/plain": [
       "\"Through Nov. 1, K-12 students in the U.S. are encouraged to enter an essay contest to name NASA's next Mars rover.\""
      ]
     },
     "execution_count": 5,
     "metadata": {},
     "output_type": "execute_result"
    }
   ],
   "source": [
    "news_paragraph=soup_news.find(\"li\", class_=\"slide\").\\\n",
    "    find(\"div\", class_=\"article_teaser_body\").text\n",
    "news_paragraph"
   ]
  },
  {
   "cell_type": "markdown",
   "metadata": {},
   "source": [
    "# FEATURED IMAGE"
   ]
  },
  {
   "cell_type": "code",
   "execution_count": 6,
   "metadata": {},
   "outputs": [],
   "source": [
    "url_image=\"https://www.jpl.nasa.gov/spaceimages/?search=&category=Mars\"\n",
    "browser.visit(url_image)\n",
    "html_image=browser.html\n",
    "soup_image=bs(html_image,\"html.parser\")"
   ]
  },
  {
   "cell_type": "markdown",
   "metadata": {},
   "source": [
    "## URL to the image"
   ]
  },
  {
   "cell_type": "code",
   "execution_count": 7,
   "metadata": {},
   "outputs": [
    {
     "name": "stdout",
     "output_type": "stream",
     "text": [
      "/spaceimages/images/mediumsize/PIA18429_ip.jpg\n"
     ]
    }
   ],
   "source": [
    "for link in soup_image.findAll(\"a\",class_=\"button fancybox\"):\n",
    "    jpg_link=link.get(\"data-fancybox-href\")\n",
    "    print(jpg_link)"
   ]
  },
  {
   "cell_type": "markdown",
   "metadata": {},
   "source": [
    "## URL of the image (jpg)"
   ]
  },
  {
   "cell_type": "code",
   "execution_count": 8,
   "metadata": {},
   "outputs": [
    {
     "data": {
      "text/plain": [
       "'https://www.jpl.nasa.gov/spaceimages/images/mediumsize/PIA18429_ip.jpg'"
      ]
     },
     "execution_count": 8,
     "metadata": {},
     "output_type": "execute_result"
    }
   ],
   "source": [
    "featured_image_url=\"https://www.jpl.nasa.gov\"+jpg_link\n",
    "featured_image_url"
   ]
  },
  {
   "cell_type": "markdown",
   "metadata": {},
   "source": [
    "## Info of the image"
   ]
  },
  {
   "cell_type": "code",
   "execution_count": 21,
   "metadata": {},
   "outputs": [
    {
     "name": "stdout",
     "output_type": "stream",
     "text": [
      "This view of the 'belly' and part of the 'head' of comet 67P/Churyumov-Gerasimenko indicates several morphologically different regions as seen by ESA's Rosetta spacecraft.\n"
     ]
    }
   ],
   "source": [
    "for info in soup_image.findAll(\"a\",class_=\"button fancybox\"):\n",
    "    jpg_info=info.get(\"data-description\")\n",
    "    print(jpg_info)"
   ]
  },
  {
   "cell_type": "code",
   "execution_count": 33,
   "metadata": {},
   "outputs": [
    {
     "name": "stdout",
     "output_type": "stream",
     "text": [
      "\n",
      "\t\t\t\t  Distinct Terrains on Rosetta's Comet\t\t\t\t\n"
     ]
    }
   ],
   "source": [
    "jpg_title=soup_image.find(\"h1\",class_=\"media_feature_title\").text\n",
    "#jpg_title=title.get(\"data-description\")\n",
    "print(jpg_title)"
   ]
  },
  {
   "cell_type": "markdown",
   "metadata": {},
   "source": [
    "# WEATHER"
   ]
  },
  {
   "cell_type": "code",
   "execution_count": 9,
   "metadata": {},
   "outputs": [],
   "source": [
    "url_weather=\"https://twitter.com/marswxreport?lang=en\"\n",
    "browser.visit(url_weather)\n",
    "html_weather=browser.html\n",
    "soup_weather=bs(html_weather,\"html.parser\")"
   ]
  },
  {
   "cell_type": "markdown",
   "metadata": {},
   "source": [
    "## Reading the last tweet"
   ]
  },
  {
   "cell_type": "code",
   "execution_count": 10,
   "metadata": {},
   "outputs": [
    {
     "data": {
      "text/plain": [
       "'We won’t be hearing from @MarsCuriosity or @NASAInSight for the next 2 weeks during Mars solar conjunction. Read more about why Mars missions go silent every 2 years: https://www.wral.com/mars-spacecraft-go-quiet-during-solar-conjunction/18595551/\\xa0…pic.twitter.com/fWruE2v151'"
      ]
     },
     "execution_count": 10,
     "metadata": {},
     "output_type": "execute_result"
    }
   ],
   "source": [
    "mars_weather=soup_weather.find(\"div\", class_=\"tweet\").\\\n",
    "    find(\"p\").text\n",
    "mars_weather"
   ]
  },
  {
   "cell_type": "markdown",
   "metadata": {},
   "source": [
    "# FACTS"
   ]
  },
  {
   "cell_type": "code",
   "execution_count": 11,
   "metadata": {},
   "outputs": [],
   "source": [
    "url_facts=\"https://space-facts.com/mars/\"\n",
    "browser.visit(url_facts)\n",
    "html_facts=browser.html\n",
    "soup_facts=bs(html_facts,\"html.parser\")"
   ]
  },
  {
   "cell_type": "markdown",
   "metadata": {},
   "source": [
    "## Table reading"
   ]
  },
  {
   "cell_type": "code",
   "execution_count": 12,
   "metadata": {},
   "outputs": [],
   "source": [
    "facts_df=pd.DataFrame()\n",
    "variables=[]\n",
    "values=[]\n",
    "for rows in soup_facts.findAll(\"td\",class_=\"column-1\"):\n",
    "    variable=rows.text\n",
    "    variables.append(variable)\n",
    "\n",
    "for rows in soup_facts.findAll(\"td\",class_=\"column-2\"):\n",
    "    value=rows.text\n",
    "    values.append(value)\n",
    "\n"
   ]
  },
  {
   "cell_type": "markdown",
   "metadata": {},
   "source": [
    "## Creating the table into a HTML Table to be used"
   ]
  },
  {
   "cell_type": "code",
   "execution_count": 13,
   "metadata": {},
   "outputs": [],
   "source": [
    "facts_df[\"Variable\"]=variables\n",
    "facts_df[\"Value\"]=values\n",
    "\n",
    "facts_df.to_html(\"Mars Facts.html\",index=False, border=0)"
   ]
  },
  {
   "cell_type": "markdown",
   "metadata": {},
   "source": [
    "# HEMISPHERES"
   ]
  },
  {
   "cell_type": "code",
   "execution_count": 14,
   "metadata": {},
   "outputs": [],
   "source": [
    "url_hemispheres=\"https://astrogeology.usgs.gov/search/results?q=hemisphere+enhanced&k1=target&v1=Mars\"\n",
    "browser.visit(url_hemispheres)\n",
    "html_hemispheres=browser.html\n",
    "soup_hemispheres=bs(html_hemispheres,\"html.parser\")"
   ]
  },
  {
   "cell_type": "markdown",
   "metadata": {},
   "source": [
    "## Obtaining each individual Hemisphere URL"
   ]
  },
  {
   "cell_type": "code",
   "execution_count": 15,
   "metadata": {},
   "outputs": [
    {
     "name": "stdout",
     "output_type": "stream",
     "text": [
      "['https://astrogeology.usgs.gov/search/map/Mars/Viking/cerberus_enhanced', 'https://astrogeology.usgs.gov/search/map/Mars/Viking/schiaparelli_enhanced', 'https://astrogeology.usgs.gov/search/map/Mars/Viking/syrtis_major_enhanced', 'https://astrogeology.usgs.gov/search/map/Mars/Viking/valles_marineris_enhanced']\n"
     ]
    }
   ],
   "source": [
    "hemispheres_urls=[] #Will include all of the individual Hemispheres URLs\n",
    "\n",
    "# Loop to obtain the individual URLs for each Hemisphere\n",
    "\n",
    "for link in soup_hemispheres.findAll(\"a\",class_=\"itemLink product-item\"):\n",
    "    hemisphere_url=link.get(\"href\")\n",
    "    if \"https://astrogeology.usgs.gov\"+hemisphere_url not in hemispheres_urls:\n",
    "        hemispheres_urls.append(\"https://astrogeology.usgs.gov\"+hemisphere_url)\n",
    "print(hemispheres_urls)\n",
    " "
   ]
  },
  {
   "cell_type": "markdown",
   "metadata": {},
   "source": [
    "## Going through each Hemisphere URL and obtaining Title and Name"
   ]
  },
  {
   "cell_type": "code",
   "execution_count": 20,
   "metadata": {},
   "outputs": [
    {
     "name": "stdout",
     "output_type": "stream",
     "text": [
      "https://astrogeology.usgs.gov/search/map/Mars/Viking/cerberus_enhanced\n",
      "Cerberus Hemisphere\n",
      "/cache/images/cfa62af2557222a02478f1fcd781d445_cerberus_enhanced.tif_full.jpg\n",
      "https://astrogeology.usgs.gov/search/map/Mars/Viking/schiaparelli_enhanced\n",
      "Schiaparelli Hemisphere\n",
      "/cache/images/3cdd1cbf5e0813bba925c9030d13b62e_schiaparelli_enhanced.tif_full.jpg\n",
      "https://astrogeology.usgs.gov/search/map/Mars/Viking/syrtis_major_enhanced\n",
      "Syrtis Major Hemisphere\n",
      "/cache/images/ae209b4e408bb6c3e67b6af38168cf28_syrtis_major_enhanced.tif_full.jpg\n",
      "https://astrogeology.usgs.gov/search/map/Mars/Viking/valles_marineris_enhanced\n",
      "Valles Marineris Hemisphere\n",
      "/cache/images/7cf2da4bf549ed01c17f206327be4db7_valles_marineris_enhanced.tif_full.jpg\n",
      "['Cerberus Hemisphere', 'Schiaparelli Hemisphere', 'Syrtis Major Hemisphere', 'Valles Marineris Hemisphere']\n",
      "['https://astrogeology.usgs.gov/cache/images/cfa62af2557222a02478f1fcd781d445_cerberus_enhanced.tif_full.jpg', 'https://astrogeology.usgs.gov/cache/images/3cdd1cbf5e0813bba925c9030d13b62e_schiaparelli_enhanced.tif_full.jpg', 'https://astrogeology.usgs.gov/cache/images/ae209b4e408bb6c3e67b6af38168cf28_syrtis_major_enhanced.tif_full.jpg', 'https://astrogeology.usgs.gov/cache/images/7cf2da4bf549ed01c17f206327be4db7_valles_marineris_enhanced.tif_full.jpg']\n"
     ]
    }
   ],
   "source": [
    "hemispheres_names=[] #Will include each Hemisphere's name\n",
    "hemispheres_img_urls=[] #Will include each Hemishpere's image url (jpg)\n",
    "\n",
    "for link in hemispheres_urls:\n",
    "\n",
    "    print(link)\n",
    "    browser.visit(link)\n",
    "    html_hemisphere=browser.html\n",
    "    soup_hemisphere=bs(html_hemisphere,\"html.parser\")\n",
    "        \n",
    "    hemisphere_name=soup_hemisphere.find(\"h2\", class_=\"title\").text\n",
    "    hemisphere_name=hemisphere_name.replace(\" Enhanced\",\"\")\n",
    "    hemispheres_names.append(hemisphere_name)\n",
    "    print(hemisphere_name)\n",
    "    \n",
    "    hemisphere_img=soup_hemisphere.find(\"img\", class_=\"wide-image\")\n",
    "    image=hemisphere_img.get(\"src\")\n",
    "    hemispheres_img_urls.append(\"https://astrogeology.usgs.gov\"+image)\n",
    "    print(image)\n",
    "    \n",
    "print(hemispheres_names)\n",
    "print(hemispheres_img_urls)"
   ]
  },
  {
   "cell_type": "code",
   "execution_count": 19,
   "metadata": {},
   "outputs": [
    {
     "data": {
      "text/plain": [
       "['Cerberus Hemisphered',\n",
       " 'Schiaparelli Hemisphered',\n",
       " 'Syrtis Major Hemisphered',\n",
       " 'Valles Marineris Hemisphered']"
      ]
     },
     "execution_count": 19,
     "metadata": {},
     "output_type": "execute_result"
    }
   ],
   "source": [
    "hemispheres_names"
   ]
  },
  {
   "cell_type": "code",
   "execution_count": null,
   "metadata": {},
   "outputs": [],
   "source": [
    "hemispheres_img_urls"
   ]
  },
  {
   "cell_type": "markdown",
   "metadata": {},
   "source": [
    "## Saving as a Dictionary"
   ]
  },
  {
   "cell_type": "code",
   "execution_count": null,
   "metadata": {},
   "outputs": [],
   "source": [
    "hemisphere_dicts=[] # Will group the hemispheres dictionary\n",
    "for i in range(len(hemispheres_img_urls)):\n",
    "    hemisphere_dict={}\n",
    "    print(hemisphere_dicts)\n",
    "    print(hemispheres_names[i])\n",
    "    print(hemispheres_img_urls[i])\n",
    "    hemisphere_dict[\"title\"]=hemispheres_names[i]\n",
    "    hemisphere_dict[\"image\"]=hemispheres_img_urls[i]\n",
    "    print(hemisphere_dict)\n",
    "    hemisphere_dicts.append(hemisphere_dict)\n",
    "    print(hemisphere_dicts)\n",
    "    \n",
    "hemisphere_dicts"
   ]
  },
  {
   "cell_type": "code",
   "execution_count": null,
   "metadata": {},
   "outputs": [],
   "source": [
    "mars={\n",
    "        \"latest_news_t\":news_title,\n",
    "        \"latest_news_p\":news_paragraph,\n",
    "        \"featured_img\":featured_image_url,\n",
    "        \"weather_tweet\":mars_weather,\n",
    "        \"facts\":html_facts,\n",
    "        \"hemispheres\":hemisphere_dicts,\n",
    "}\n",
    "mars"
   ]
  },
  {
   "cell_type": "code",
   "execution_count": null,
   "metadata": {},
   "outputs": [],
   "source": []
  }
 ],
 "metadata": {
  "kernelspec": {
   "display_name": "Python 3",
   "language": "python",
   "name": "python3"
  },
  "language_info": {
   "codemirror_mode": {
    "name": "ipython",
    "version": 3
   },
   "file_extension": ".py",
   "mimetype": "text/x-python",
   "name": "python",
   "nbconvert_exporter": "python",
   "pygments_lexer": "ipython3",
   "version": "3.7.3"
  }
 },
 "nbformat": 4,
 "nbformat_minor": 2
}
