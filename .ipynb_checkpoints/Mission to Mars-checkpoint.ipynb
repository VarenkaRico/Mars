{
 "cells": [
  {
   "cell_type": "code",
   "execution_count": 1,
   "metadata": {},
   "outputs": [],
   "source": [
    "import requests\n",
    "from bs4 import BeautifulSoup as bs\n",
    "from splinter import Browser\n",
    "from selenium import webdriver\n",
    "import pandas as pd"
   ]
  },
  {
   "cell_type": "code",
   "execution_count": 2,
   "metadata": {},
   "outputs": [],
   "source": [
    "executable_path = {'executable_path': 'chromedriver.exe'}\n",
    "browser = Browser('chrome', **executable_path, headless=False)"
   ]
  },
  {
   "cell_type": "markdown",
   "metadata": {},
   "source": [
    "# NEWS"
   ]
  },
  {
   "cell_type": "code",
   "execution_count": 3,
   "metadata": {},
   "outputs": [],
   "source": [
    "url_news=\"https://mars.nasa.gov/news/\"\n",
    "browser.visit(url_news)\n",
    "html_news = browser.html\n",
    "soup_news=bs(html_news, 'html.parser')"
   ]
  },
  {
   "cell_type": "markdown",
   "metadata": {},
   "source": [
    "## Title"
   ]
  },
  {
   "cell_type": "code",
   "execution_count": 4,
   "metadata": {},
   "outputs": [
    {
     "data": {
      "text/plain": [
       "'NASA Invites Students to Name Mars 2020 Rover'"
      ]
     },
     "execution_count": 4,
     "metadata": {},
     "output_type": "execute_result"
    }
   ],
   "source": [
    "news_title=soup_news.find(\"li\", class_=\"slide\").\\\n",
    "    find(\"div\", class_=\"content_title\").text\n",
    "news_title\n"
   ]
  },
  {
   "cell_type": "markdown",
   "metadata": {},
   "source": [
    "# Article Teaser"
   ]
  },
  {
   "cell_type": "code",
   "execution_count": 5,
   "metadata": {},
   "outputs": [
    {
     "data": {
      "text/plain": [
       "\"Through Nov. 1, K-12 students in the U.S. are encouraged to enter an essay contest to name NASA's next Mars rover.\""
      ]
     },
     "execution_count": 5,
     "metadata": {},
     "output_type": "execute_result"
    }
   ],
   "source": [
    "news_paragraph=soup_news.find(\"li\", class_=\"slide\").\\\n",
    "    find(\"div\", class_=\"article_teaser_body\").text\n",
    "news_paragraph"
   ]
  },
  {
   "cell_type": "markdown",
   "metadata": {},
   "source": [
    "# FEATURED IMAGE"
   ]
  },
  {
   "cell_type": "code",
   "execution_count": 6,
   "metadata": {},
   "outputs": [],
   "source": [
    "url_image=\"https://www.jpl.nasa.gov/spaceimages/?search=&category=Mars\"\n",
    "browser.visit(url_image)\n",
    "html_image=browser.html\n",
    "soup_image=bs(html_image,\"html.parser\")"
   ]
  },
  {
   "cell_type": "markdown",
   "metadata": {},
   "source": [
    "## URL to the image"
   ]
  },
  {
   "cell_type": "code",
   "execution_count": 7,
   "metadata": {},
   "outputs": [
    {
     "name": "stdout",
     "output_type": "stream",
     "text": [
      "/spaceimages/images/mediumsize/PIA12826_ip.jpg\n"
     ]
    }
   ],
   "source": [
    "for link in soup_image.findAll(\"a\",class_=\"button fancybox\"):\n",
    "    jpg_link=link.get(\"data-fancybox-href\")\n",
    "    print(jpg_link)"
   ]
  },
  {
   "cell_type": "markdown",
   "metadata": {},
   "source": [
    "## URL of the image (jpg)"
   ]
  },
  {
   "cell_type": "code",
   "execution_count": 8,
   "metadata": {},
   "outputs": [
    {
     "data": {
      "text/plain": [
       "'https://www.jpl.nasa.gov/spaceimages/images/mediumsize/PIA12826_ip.jpg'"
      ]
     },
     "execution_count": 8,
     "metadata": {},
     "output_type": "execute_result"
    }
   ],
   "source": [
    "featured_image_url=\"https://www.jpl.nasa.gov\"+jpg_link\n",
    "featured_image_url"
   ]
  },
  {
   "cell_type": "markdown",
   "metadata": {},
   "source": [
    "# WEATHER"
   ]
  },
  {
   "cell_type": "code",
   "execution_count": 9,
   "metadata": {},
   "outputs": [],
   "source": [
    "url_weather=\"https://twitter.com/marswxreport?lang=en\"\n",
    "browser.visit(url_weather)\n",
    "html_weather=browser.html\n",
    "soup_weather=bs(html_weather,\"html.parser\")"
   ]
  },
  {
   "cell_type": "markdown",
   "metadata": {},
   "source": [
    "## Reading the last tweet"
   ]
  },
  {
   "cell_type": "code",
   "execution_count": 10,
   "metadata": {},
   "outputs": [
    {
     "data": {
      "text/plain": [
       "'We won’t be hearing from @MarsCuriosity or @NASAInSight for the next 2 weeks during Mars solar conjunction. Read more about why Mars missions go silent every 2 years: https://www.wral.com/mars-spacecraft-go-quiet-during-solar-conjunction/18595551/\\xa0…pic.twitter.com/fWruE2v151'"
      ]
     },
     "execution_count": 10,
     "metadata": {},
     "output_type": "execute_result"
    }
   ],
   "source": [
    "mars_weather=soup_weather.find(\"div\", class_=\"tweet\").\\\n",
    "    find(\"p\").text\n",
    "mars_weather"
   ]
  },
  {
   "cell_type": "markdown",
   "metadata": {},
   "source": [
    "# FACTS"
   ]
  },
  {
   "cell_type": "code",
   "execution_count": 11,
   "metadata": {},
   "outputs": [],
   "source": [
    "url_facts=\"https://space-facts.com/mars/\"\n",
    "browser.visit(url_facts)\n",
    "html_facts=browser.html\n",
    "soup_facts=bs(html_facts,\"html.parser\")"
   ]
  },
  {
   "cell_type": "markdown",
   "metadata": {},
   "source": [
    "## Table reading"
   ]
  },
  {
   "cell_type": "code",
   "execution_count": 12,
   "metadata": {},
   "outputs": [],
   "source": [
    "facts_df=pd.DataFrame()\n",
    "variables=[]\n",
    "values=[]\n",
    "for rows in soup_facts.findAll(\"td\",class_=\"column-1\"):\n",
    "    variable=rows.text\n",
    "    variables.append(variable)\n",
    "\n",
    "for rows in soup_facts.findAll(\"td\",class_=\"column-2\"):\n",
    "    value=rows.text\n",
    "    values.append(value)\n",
    "\n"
   ]
  },
  {
   "cell_type": "markdown",
   "metadata": {},
   "source": [
    "## Creating the table into a HTML Table to be used"
   ]
  },
  {
   "cell_type": "code",
   "execution_count": 13,
   "metadata": {},
   "outputs": [],
   "source": [
    "facts_df[\"Variable\"]=variables\n",
    "facts_df[\"Value\"]=values\n",
    "\n",
    "facts_df.to_html(\"Mars Facts.html\",index=False)"
   ]
  },
  {
   "cell_type": "markdown",
   "metadata": {},
   "source": [
    "# HEMISPHERES"
   ]
  },
  {
   "cell_type": "code",
   "execution_count": 21,
   "metadata": {},
   "outputs": [],
   "source": [
    "url_hemispheres=\"https://astrogeology.usgs.gov/search/results?q=hemisphere+enhanced&k1=target&v1=Mars\"\n",
    "browser.visit(url_hemispheres)\n",
    "html_hemispheres=browser.html\n",
    "soup_hemispheres=bs(html_hemispheres,\"html.parser\")"
   ]
  },
  {
   "cell_type": "markdown",
   "metadata": {},
   "source": [
    "## Obtaining each individual Hemisphere URL"
   ]
  },
  {
   "cell_type": "code",
   "execution_count": 22,
   "metadata": {},
   "outputs": [
    {
     "name": "stdout",
     "output_type": "stream",
     "text": [
      "['https://astrogeology.usgs.gov/search/map/Mars/Viking/cerberus_enhanced', 'https://astrogeology.usgs.gov/search/map/Mars/Viking/schiaparelli_enhanced', 'https://astrogeology.usgs.gov/search/map/Mars/Viking/syrtis_major_enhanced', 'https://astrogeology.usgs.gov/search/map/Mars/Viking/valles_marineris_enhanced']\n"
     ]
    }
   ],
   "source": [
    "hemispheres_urls=[] #Will include all of the individual Hemispheres URLs\n",
    "\n",
    "# Loop to obtain the individual URLs for each Hemisphere\n",
    "\n",
    "for link in soup_hemispheres.findAll(\"a\",class_=\"itemLink product-item\"):\n",
    "    hemisphere_url=link.get(\"href\")\n",
    "    if \"https://astrogeology.usgs.gov\"+hemisphere_url not in hemispheres_urls:\n",
    "        hemispheres_urls.append(\"https://astrogeology.usgs.gov\"+hemisphere_url)\n",
    "print(hemispheres_urls)\n",
    " "
   ]
  },
  {
   "cell_type": "markdown",
   "metadata": {},
   "source": [
    "## Going through each Hemisphere URL and obtaining Title and Name"
   ]
  },
  {
   "cell_type": "code",
   "execution_count": 23,
   "metadata": {},
   "outputs": [
    {
     "name": "stdout",
     "output_type": "stream",
     "text": [
      "https://astrogeology.usgs.gov/search/map/Mars/Viking/cerberus_enhanced\n",
      "Cerberus Hemisphere Enhanced\n",
      "/cache/images/cfa62af2557222a02478f1fcd781d445_cerberus_enhanced.tif_full.jpg\n",
      "https://astrogeology.usgs.gov/search/map/Mars/Viking/schiaparelli_enhanced\n",
      "Schiaparelli Hemisphere Enhanced\n",
      "/cache/images/3cdd1cbf5e0813bba925c9030d13b62e_schiaparelli_enhanced.tif_full.jpg\n",
      "https://astrogeology.usgs.gov/search/map/Mars/Viking/syrtis_major_enhanced\n",
      "Syrtis Major Hemisphere Enhanced\n",
      "/cache/images/ae209b4e408bb6c3e67b6af38168cf28_syrtis_major_enhanced.tif_full.jpg\n",
      "https://astrogeology.usgs.gov/search/map/Mars/Viking/valles_marineris_enhanced\n",
      "Valles Marineris Hemisphere Enhanced\n",
      "/cache/images/7cf2da4bf549ed01c17f206327be4db7_valles_marineris_enhanced.tif_full.jpg\n",
      "['Cerberus Hemisphere Enhanced', 'Schiaparelli Hemisphere Enhanced', 'Syrtis Major Hemisphere Enhanced', 'Valles Marineris Hemisphere Enhanced']\n",
      "['https://astrogeology.usgs.gov/cache/images/cfa62af2557222a02478f1fcd781d445_cerberus_enhanced.tif_full.jpg', 'https://astrogeology.usgs.gov/cache/images/3cdd1cbf5e0813bba925c9030d13b62e_schiaparelli_enhanced.tif_full.jpg', 'https://astrogeology.usgs.gov/cache/images/ae209b4e408bb6c3e67b6af38168cf28_syrtis_major_enhanced.tif_full.jpg', 'https://astrogeology.usgs.gov/cache/images/7cf2da4bf549ed01c17f206327be4db7_valles_marineris_enhanced.tif_full.jpg']\n"
     ]
    }
   ],
   "source": [
    "hemispheres_names=[] #Will include each Hemisphere's name\n",
    "hemispheres_img_urls=[] #Will include each Hemishpere's image url (jpg)\n",
    "\n",
    "for link in hemispheres_urls:\n",
    "\n",
    "    print(link)\n",
    "    browser.visit(link)\n",
    "    html_hemisphere=browser.html\n",
    "    soup_hemisphere=bs(html_hemisphere,\"html.parser\")\n",
    "        \n",
    "    hemisphere_name=soup_hemisphere.find(\"h2\", class_=\"title\").text\n",
    "    hemispheres_names.append(hemisphere_name)\n",
    "    print(hemisphere_name)\n",
    "    \n",
    "    hemisphere_img=soup_hemisphere.find(\"img\", class_=\"wide-image\")\n",
    "    image=hemisphere_img.get(\"src\")\n",
    "    hemispheres_img_urls.append(\"https://astrogeology.usgs.gov\"+image)\n",
    "    print(image)\n",
    "    \n",
    "print(hemispheres_names)\n",
    "print(hemispheres_img_urls)"
   ]
  },
  {
   "cell_type": "code",
   "execution_count": 38,
   "metadata": {},
   "outputs": [
    {
     "data": {
      "text/plain": [
       "['Cerberus Hemisphere Enhanced',\n",
       " 'Schiaparelli Hemisphere Enhanced',\n",
       " 'Syrtis Major Hemisphere Enhanced',\n",
       " 'Valles Marineris Hemisphere Enhanced']"
      ]
     },
     "execution_count": 38,
     "metadata": {},
     "output_type": "execute_result"
    }
   ],
   "source": [
    "hemispheres_names"
   ]
  },
  {
   "cell_type": "code",
   "execution_count": 39,
   "metadata": {},
   "outputs": [
    {
     "data": {
      "text/plain": [
       "['https://astrogeology.usgs.gov/cache/images/cfa62af2557222a02478f1fcd781d445_cerberus_enhanced.tif_full.jpg',\n",
       " 'https://astrogeology.usgs.gov/cache/images/3cdd1cbf5e0813bba925c9030d13b62e_schiaparelli_enhanced.tif_full.jpg',\n",
       " 'https://astrogeology.usgs.gov/cache/images/ae209b4e408bb6c3e67b6af38168cf28_syrtis_major_enhanced.tif_full.jpg',\n",
       " 'https://astrogeology.usgs.gov/cache/images/7cf2da4bf549ed01c17f206327be4db7_valles_marineris_enhanced.tif_full.jpg']"
      ]
     },
     "execution_count": 39,
     "metadata": {},
     "output_type": "execute_result"
    }
   ],
   "source": [
    "hemispheres_img_urls"
   ]
  },
  {
   "cell_type": "markdown",
   "metadata": {},
   "source": [
    "## Saving as a Dictionary"
   ]
  },
  {
   "cell_type": "code",
   "execution_count": 58,
   "metadata": {},
   "outputs": [
    {
     "name": "stdout",
     "output_type": "stream",
     "text": [
      "[]\n",
      "Cerberus Hemisphere Enhanced\n",
      "https://astrogeology.usgs.gov/cache/images/cfa62af2557222a02478f1fcd781d445_cerberus_enhanced.tif_full.jpg\n",
      "{'title': 'Cerberus Hemisphere Enhanced', 'image': 'https://astrogeology.usgs.gov/cache/images/cfa62af2557222a02478f1fcd781d445_cerberus_enhanced.tif_full.jpg'}\n",
      "[{'title': 'Cerberus Hemisphere Enhanced', 'image': 'https://astrogeology.usgs.gov/cache/images/cfa62af2557222a02478f1fcd781d445_cerberus_enhanced.tif_full.jpg'}]\n",
      "[{'title': 'Cerberus Hemisphere Enhanced', 'image': 'https://astrogeology.usgs.gov/cache/images/cfa62af2557222a02478f1fcd781d445_cerberus_enhanced.tif_full.jpg'}]\n",
      "Schiaparelli Hemisphere Enhanced\n",
      "https://astrogeology.usgs.gov/cache/images/3cdd1cbf5e0813bba925c9030d13b62e_schiaparelli_enhanced.tif_full.jpg\n",
      "{'title': 'Schiaparelli Hemisphere Enhanced', 'image': 'https://astrogeology.usgs.gov/cache/images/3cdd1cbf5e0813bba925c9030d13b62e_schiaparelli_enhanced.tif_full.jpg'}\n",
      "[{'title': 'Cerberus Hemisphere Enhanced', 'image': 'https://astrogeology.usgs.gov/cache/images/cfa62af2557222a02478f1fcd781d445_cerberus_enhanced.tif_full.jpg'}, {'title': 'Schiaparelli Hemisphere Enhanced', 'image': 'https://astrogeology.usgs.gov/cache/images/3cdd1cbf5e0813bba925c9030d13b62e_schiaparelli_enhanced.tif_full.jpg'}]\n",
      "[{'title': 'Cerberus Hemisphere Enhanced', 'image': 'https://astrogeology.usgs.gov/cache/images/cfa62af2557222a02478f1fcd781d445_cerberus_enhanced.tif_full.jpg'}, {'title': 'Schiaparelli Hemisphere Enhanced', 'image': 'https://astrogeology.usgs.gov/cache/images/3cdd1cbf5e0813bba925c9030d13b62e_schiaparelli_enhanced.tif_full.jpg'}]\n",
      "Syrtis Major Hemisphere Enhanced\n",
      "https://astrogeology.usgs.gov/cache/images/ae209b4e408bb6c3e67b6af38168cf28_syrtis_major_enhanced.tif_full.jpg\n",
      "{'title': 'Syrtis Major Hemisphere Enhanced', 'image': 'https://astrogeology.usgs.gov/cache/images/ae209b4e408bb6c3e67b6af38168cf28_syrtis_major_enhanced.tif_full.jpg'}\n",
      "[{'title': 'Cerberus Hemisphere Enhanced', 'image': 'https://astrogeology.usgs.gov/cache/images/cfa62af2557222a02478f1fcd781d445_cerberus_enhanced.tif_full.jpg'}, {'title': 'Schiaparelli Hemisphere Enhanced', 'image': 'https://astrogeology.usgs.gov/cache/images/3cdd1cbf5e0813bba925c9030d13b62e_schiaparelli_enhanced.tif_full.jpg'}, {'title': 'Syrtis Major Hemisphere Enhanced', 'image': 'https://astrogeology.usgs.gov/cache/images/ae209b4e408bb6c3e67b6af38168cf28_syrtis_major_enhanced.tif_full.jpg'}]\n",
      "[{'title': 'Cerberus Hemisphere Enhanced', 'image': 'https://astrogeology.usgs.gov/cache/images/cfa62af2557222a02478f1fcd781d445_cerberus_enhanced.tif_full.jpg'}, {'title': 'Schiaparelli Hemisphere Enhanced', 'image': 'https://astrogeology.usgs.gov/cache/images/3cdd1cbf5e0813bba925c9030d13b62e_schiaparelli_enhanced.tif_full.jpg'}, {'title': 'Syrtis Major Hemisphere Enhanced', 'image': 'https://astrogeology.usgs.gov/cache/images/ae209b4e408bb6c3e67b6af38168cf28_syrtis_major_enhanced.tif_full.jpg'}]\n",
      "Valles Marineris Hemisphere Enhanced\n",
      "https://astrogeology.usgs.gov/cache/images/7cf2da4bf549ed01c17f206327be4db7_valles_marineris_enhanced.tif_full.jpg\n",
      "{'title': 'Valles Marineris Hemisphere Enhanced', 'image': 'https://astrogeology.usgs.gov/cache/images/7cf2da4bf549ed01c17f206327be4db7_valles_marineris_enhanced.tif_full.jpg'}\n",
      "[{'title': 'Cerberus Hemisphere Enhanced', 'image': 'https://astrogeology.usgs.gov/cache/images/cfa62af2557222a02478f1fcd781d445_cerberus_enhanced.tif_full.jpg'}, {'title': 'Schiaparelli Hemisphere Enhanced', 'image': 'https://astrogeology.usgs.gov/cache/images/3cdd1cbf5e0813bba925c9030d13b62e_schiaparelli_enhanced.tif_full.jpg'}, {'title': 'Syrtis Major Hemisphere Enhanced', 'image': 'https://astrogeology.usgs.gov/cache/images/ae209b4e408bb6c3e67b6af38168cf28_syrtis_major_enhanced.tif_full.jpg'}, {'title': 'Valles Marineris Hemisphere Enhanced', 'image': 'https://astrogeology.usgs.gov/cache/images/7cf2da4bf549ed01c17f206327be4db7_valles_marineris_enhanced.tif_full.jpg'}]\n"
     ]
    },
    {
     "data": {
      "text/plain": [
       "[{'title': 'Cerberus Hemisphere Enhanced',\n",
       "  'image': 'https://astrogeology.usgs.gov/cache/images/cfa62af2557222a02478f1fcd781d445_cerberus_enhanced.tif_full.jpg'},\n",
       " {'title': 'Schiaparelli Hemisphere Enhanced',\n",
       "  'image': 'https://astrogeology.usgs.gov/cache/images/3cdd1cbf5e0813bba925c9030d13b62e_schiaparelli_enhanced.tif_full.jpg'},\n",
       " {'title': 'Syrtis Major Hemisphere Enhanced',\n",
       "  'image': 'https://astrogeology.usgs.gov/cache/images/ae209b4e408bb6c3e67b6af38168cf28_syrtis_major_enhanced.tif_full.jpg'},\n",
       " {'title': 'Valles Marineris Hemisphere Enhanced',\n",
       "  'image': 'https://astrogeology.usgs.gov/cache/images/7cf2da4bf549ed01c17f206327be4db7_valles_marineris_enhanced.tif_full.jpg'}]"
      ]
     },
     "execution_count": 58,
     "metadata": {},
     "output_type": "execute_result"
    }
   ],
   "source": [
    "hemisphere_dicts=[] # Will group the hemispheres dictionary\n",
    "for i in range(len(hemispheres_img_urls)):\n",
    "    hemisphere_dict={}\n",
    "    print(hemisphere_dicts)\n",
    "    print(hemispheres_names[i])\n",
    "    print(hemispheres_img_urls[i])\n",
    "    hemisphere_dict[\"title\"]=hemispheres_names[i]\n",
    "    hemisphere_dict[\"image\"]=hemispheres_img_urls[i]\n",
    "    print(hemisphere_dict)\n",
    "    hemisphere_dicts.append(hemisphere_dict)\n",
    "    print(hemisphere_dicts)\n",
    "    \n",
    "hemisphere_dicts"
   ]
  },
  {
   "cell_type": "code",
   "execution_count": 49,
   "metadata": {},
   "outputs": [
    {
     "data": {
      "text/plain": [
       "{'latest_news_t': 'NASA Invites Students to Name Mars 2020 Rover',\n",
       " 'latest_news_p': \"Through Nov. 1, K-12 students in the U.S. are encouraged to enter an essay contest to name NASA's next Mars rover.\",\n",
       " 'featured_img': 'https://www.jpl.nasa.gov/spaceimages/images/mediumsize/PIA12826_ip.jpg',\n",
       " 'weather_tweet': 'We won’t be hearing from @MarsCuriosity or @NASAInSight for the next 2 weeks during Mars solar conjunction. Read more about why Mars missions go silent every 2 years: https://www.wral.com/mars-spacecraft-go-quiet-during-solar-conjunction/18595551/\\xa0…pic.twitter.com/fWruE2v151',\n",
       " 'facts': '<html lang=\"en-US\"><head><script src=\"https://www.googletagservices.com/activeview/js/current/osd.js?cb=%2Fr20100101\"></script><meta charset=\"UTF-8\"><meta name=\"viewport\" content=\"width=device-width, initial-scale=1\"><link rel=\"profile\" href=\"https://gmpg.org/xfn/11\"><link rel=\"pingback\" href=\"https://space-facts.com/wp/xmlrpc.php\"> <script>function fvmuag(){if(navigator.userAgent.match(/x11.*fox\\\\/54|oid\\\\s4.*xus.*ome\\\\/62|oobot|ighth|tmetr|eadles|ingdo/i))return!1;if(navigator.userAgent.match(/x11.*ome\\\\/75\\\\.0\\\\.3770\\\\.100/i)){var e=screen.width,t=screen.height;if(\"number\"==typeof e&&\"number\"==typeof t&&862==t&&1367==e)return!1}return!0}</script><title>Mars Facts - Interesting Facts about Planet Mars</title> <!-- Jetpack Site Verification Tags --><meta name=\"google-site-verification\" content=\"OI26qBRJ2SI673vDUn_KgAd_H89WIX3IEgf6TZbhgDs\"><meta name=\"msvalidate.01\" content=\"988097676DFC89A04403B1F262C0F731\"><!-- This site is optimized with the Yoast SEO plugin v11.9 - https://yoast.com/wordpress/plugins/seo/ --><link rel=\"canonical\" href=\"https://space-facts.com/mars/\"><meta property=\"og:locale\" content=\"en_US\"><meta property=\"og:type\" content=\"article\"><meta property=\"og:title\" content=\"Mars Facts - Interesting Facts about Planet Mars\"><meta property=\"og:description\" content=\"Mars is the fourth planet from the Sun and is the second smallest planet in the solar system. Named after the Roman god of war,\"><meta property=\"og:url\" content=\"https://space-facts.com/mars/\"><meta property=\"og:site_name\" content=\"Space Facts\"><meta property=\"og:image\" content=\"https://space-facts.com/wp-content/uploads/mars.jpg\"><meta property=\"og:image:secure_url\" content=\"https://space-facts.com/wp-content/uploads/mars.jpg\"><meta property=\"og:image:width\" content=\"700\"><meta property=\"og:image:height\" content=\"700\"><meta name=\"twitter:card\" content=\"summary\"><meta name=\"twitter:description\" content=\"Mars is the fourth planet from the Sun and is the second smallest planet in the solar system. Named after the Roman god of war,\"><meta name=\"twitter:title\" content=\"Mars Facts - Interesting Facts about Planet Mars\"><meta name=\"twitter:image\" content=\"https://space-facts.com/wp-content/uploads/mars.jpg\"> <script type=\"application/ld+json\" class=\"yoast-schema-graph yoast-schema-graph--main\">{\"@context\":\"https://schema.org\",\"@graph\":[{\"@type\":\"WebSite\",\"@id\":\"https://space-facts.com/#website\",\"url\":\"https://space-facts.com/\",\"name\":\"Space Facts\",\"potentialAction\":{\"@type\":\"SearchAction\",\"target\":\"https://space-facts.com/?s={search_term_string}\",\"query-input\":\"required name=search_term_string\"}},{\"@type\":\"ImageObject\",\"@id\":\"https://space-facts.com/mars/#primaryimage\",\"url\":\"https://space-facts.com/wp-content/uploads/mars.jpg\",\"width\":700,\"height\":700,\"caption\":\"Mars\"},{\"@type\":\"WebPage\",\"@id\":\"https://space-facts.com/mars/#webpage\",\"url\":\"https://space-facts.com/mars/\",\"inLanguage\":\"en-US\",\"name\":\"Mars Facts - Interesting Facts about Planet Mars\",\"isPartOf\":{\"@id\":\"https://space-facts.com/#website\"},\"primaryImageOfPage\":{\"@id\":\"https://space-facts.com/mars/#primaryimage\"},\"datePublished\":\"2015-10-20T13:08:28+00:00\",\"dateModified\":\"2019-07-12T20:47:37+00:00\"}]}</script> <!-- / Yoast SEO plugin. --><link rel=\"stylesheet\" id=\"fvm-header-0-css\" href=\"https://space-facts.com/wp-content/uploads/cache/fvm/1565948573/out/header-c5c76b16.min.css\" type=\"text/css\" media=\"all\"> <script type=\"text/javascript\">/*  */\\nvar related_posts_js_options = {\"post_heading\":\"h4\"};\\n/*  */</script> <script type=\"text/javascript\" src=\"https://space-facts.com/wp-content/uploads/cache/fvm/1565948573/out/header-b86a12b5.min.js\"></script><!--[if lt IE 9]> <script type=\\'text/javascript\\' src=\\'https://space-facts.com/wp-content/themes/gridbox/assets/js/html5shiv.min.js\\'></script> <![endif]--><script type=\"text/javascript\" src=\"https://space-facts.com/wp-content/uploads/cache/fvm/1565948573/out/header-82710a1a.min.js\"></script><link rel=\"https://api.w.org/\" href=\"https://space-facts.com/wp-json/\"><link rel=\"alternate\" type=\"application/json+oembed\" href=\"https://space-facts.com/wp-json/oembed/1.0/embed?url=https%3A%2F%2Fspace-facts.com%2Fmars%2F\"><link rel=\"alternate\" type=\"text/xml+oembed\" href=\"https://space-facts.com/wp-json/oembed/1.0/embed?url=https%3A%2F%2Fspace-facts.com%2Fmars%2F&amp;format=xml\"> <!--[if lt IE 9]><link rel=\"stylesheet\" href=\"https://space-facts.com/wp-content/plugins/lightweight-grid-columns/css/ie.min.css\" /> <![endif]--><style type=\"text/css\">img#wpstats{display:none}</style><link rel=\"icon\" href=\"https://space-facts.com/wp-content/uploads/favicon.png\" sizes=\"32x32\"><link rel=\"icon\" href=\"https://space-facts.com/wp-content/uploads/favicon.png\" sizes=\"192x192\"><link rel=\"apple-touch-icon-precomposed\" href=\"https://space-facts.com/wp-content/uploads/favicon.png\"><meta name=\"msapplication-TileImage\" content=\"https://space-facts.com/wp-content/uploads/favicon.png\"><style type=\"text/css\" id=\"wp-custom-css\">/* Logo + Header Background */ .site-header { background: #29416dff } .site-branding { margin: .5em 0; } @media only screen and (max-width: 734px) { .site-branding { display: none; } } /* Design Edits */ .ad-header { margin: -1.3em auto 1.2em auto; max-width:800px; } @media only screen and (max-width: 734px) { .ad-header { display: none; } } .ad-bottom { margin: -2em auto 1em auto; max-width:400px; } @media only screen and (min-width: 55em) { .profiles { display: none; } } .content-single li { padding: 0 0 .6em; } .content-single { padding-right: 2em; } .entry-content a { /* color: #ce3030;*/ /* background: #ffffb3;*/ text-decoration: none; } #recent-posts-2 ul { list-style: circle; padding: 0 0 0 1.25em; } .wp-block-yoast-faq-block p { margin-top: 0.1em; } @media only screen and (max-width: 55em) { .content-single { padding: 0; } .container { padding-left: 1em; padding-right: 1em; } } /* Centre Jetpack Sharing Buttons */ .sd-content { text-align: center; } #jp-relatedposts { padding-top: 0em; } /* Planet Background */ .black-background { background-color: #000; color: #CECECE; } .grey-background-grid { background-color: #E6E6E6; overflow: hidden; } .grey-background-grid img { border-radius: 50%; } .grey-background-grid img:hover{ filter: invert(0.8) contrast(1.1) hue-rotate(180deg); } .grey-background-grid h3 { font-size: 22px; } .black-background-grid { background-color: #000; color: #f0f0f0; /* float: left; */ overflow: hidden; } .black-background-grid a { color: #ff5e5e; } .black-background-grid a:hover { color: #4a302d; } .black-background-grid h3 { font-size: 22px; } .black-background-grid img:hover{ /* -webkit-transform: scale(1.08); -moz-transform: scale(1.1); -ms-transform: scale(1.1); -o-transform: scale(1.1); transform: scale(1.1); */ opacity: 0.7; } /* Source Box Styling */ .sources { color: #8C8C8C; background: #E6E6E6; font-size: 12px; padding: 12px; margin-bottom: 12px; } /* Quote Styling */ .quote { color: #4c4c4c; background: #E6E6E6; font-style: italic; padding: 0.2em 1.2em; } .quote ol { list-style-type: lower-alpha; margin: 0 0 0.8em; } /* Blue Table */ .blue-table { background-color: #17274E; color: #CECECE; /* width: inherit; */ line-height: 1.2em; font-size: 15px; } .blue-table thead tr th { background-color: #17274E; color: #FFFFFF; border-bottom: 0; } .blue-table tbody td { border-top: 0; } .blue-table tbody td.column-1 { padding-left: 10px; } /* Diagram Background */ .diagram-background { background-color: #17274E; /* padding-bottom: 10px; */ color: #CECECE; } .diagram-background figcaption { color: #CECECE; } /* Diagram Text */ .mercury { color: #969599; font-weight: bold; } .venus { color: #ded4b8; font-weight: bold; } .earth { color: #6e75a0; font-weight: bold; } .earth-s { color: #6e75a0; } .mars { color: #d36540; font-weight: bold; } .mars-s { color: #d36540; } .jupiter { color: #e8b28e; font-weight: bold; } .saturn { color: #d0a673; font-weight: bold; } .uranus { color: #d1e7e9; font-weight: bold; } .neptune { color: #6491da; font-weight: bold; } .ceres { color: #90847d; font-weight: bold; } .pluto { color: #d0ab88; font-weight: bold; } .haumea { color: #6d6d6f; font-weight: bold; } .makemake { color: #746260; font-weight: bold; } .eris { color: #c4bfba; font-weight: bold; } .sun { color: #fff6d5; font-weight: bold; } .moon { color: #aba4a0; font-weight: bold; } .phobos { color: #9b7861; font-weight: bold; } .deimos { color: #b99b7f; font-weight: bold; } .io { color: #d9ca62; font-weight: bold; } .europa { color: #eee3dd; font-weight: bold; } .ganymede { color: #8f887c; font-weight: bold; } .callisto { color: #686a61; font-weight: bold; } .enceladus { color: #e1e6f2; font-weight: bold; } .rhea { color: #8a8a8a; font-weight: bold; } .titan { color: #edc863; font-weight: bold; } .iapetus { color: #b3af89; font-weight: bold; } .miranda { color: #af999a; font-weight: bold; } .titania { color: #998a7e; font-weight: bold; } .triton { color: #908884; font-weight: bold; } /* Planet Orbits Styling */ .full-width-orbit { background-color: #12243e; padding-bottom: 10px; color: #CECECE; } .full-width-orbit p { margin: .4em 0 .8em; } #speed-width { max-width: 800px; } #speed-width2 { max-width: 400px; }</style><style type=\"text/css\">/** Mega Menu CSS: fs **/</style> <script>window.ga=window.ga||function(){(ga.q=ga.q||[]).push(arguments)};ga.l=+new Date;\\nga(\\'create\\', \\'UA-32348920-1\\', \\'auto\\');\\nga(\\'send\\', \\'pageview\\');</script> <script async=\"\" src=\"https://www.google-analytics.com/analytics.js\"></script> <script async=\"\" src=\"https://pagead2.googlesyndication.com/pagead/js/adsbygoogle.js\"></script> <script>(adsbygoogle = window.adsbygoogle || []).push({\\n          google_ad_client: \"ca-pub-4251889121233823\",\\n          enable_page_level_ads: true\\n     });</script> <link rel=\"preload\" href=\"https://adservice.google.com.mx/adsid/integrator.js?domain=space-facts.com\" as=\"script\"><script type=\"text/javascript\" src=\"https://adservice.google.com.mx/adsid/integrator.js?domain=space-facts.com\"></script><link rel=\"preload\" href=\"https://adservice.google.com/adsid/integrator.js?domain=space-facts.com\" as=\"script\"><script type=\"text/javascript\" src=\"https://adservice.google.com/adsid/integrator.js?domain=space-facts.com\"></script><link rel=\"preload\" href=\"https://pagead2.googlesyndication.com/pagead/js/r20190826/r20190131/show_ads_impl.js\" as=\"script\"></head><body data-rsssl=\"1\" class=\"page-template-default page page-id-7 wp-custom-logo wp-embed-responsive mega-menu-primary post-layout-three-columns post-layout-columns\"><div id=\"page\" class=\"hfeed site\" style=\"height: auto !important;\"><a class=\"skip-link screen-reader-text\" href=\"#content\">Skip to content</a> <header id=\"masthead\" class=\"site-header clearfix\" role=\"banner\"><div class=\"header-main container clearfix\"><div id=\"logo\" class=\"site-branding clearfix\"><a href=\"https://space-facts.com/\" class=\"custom-logo-link\" rel=\"home\"><img width=\"184\" height=\"80\" src=\"https://space-facts.com/wp-content/uploads/space-facts-logo.png\" class=\"custom-logo\" alt=\"Space Facts\"></a><p class=\"site-title\"><a href=\"https://space-facts.com/\" rel=\"home\">Space Facts</a></p></div><!-- .site-branding --><nav id=\"main-navigation\" class=\"primary-navigation navigation clearfix\" role=\"navigation\"><div id=\"mega-menu-wrap-primary\" class=\"mega-menu-wrap\"><div class=\"mega-menu-toggle\"><div class=\"mega-toggle-blocks-left\"><div class=\"mega-toggle-block mega-logo-block mega-toggle-block-1\" id=\"mega-toggle-block-1\"><a class=\"mega-menu-logo\" href=\"https://space-facts.com\" target=\"_self\"><img class=\"mega-menu-logo\" src=\"https://space-facts.com/wp-content/uploads/space-facts-logo.png\" alt=\"Space Facts\"></a></div></div><div class=\"mega-toggle-blocks-center\"></div><div class=\"mega-toggle-blocks-right\"><div class=\"mega-toggle-block mega-search-block mega-toggle-block-2\" id=\"mega-toggle-block-2\"><div class=\"mega-search-wrap\"><form class=\"mega-search expand-to-left mega-search-closed\" action=\"https://space-facts.com/\"> <span class=\"dashicons dashicons-search search-icon\"></span> <input type=\"submit\" value=\"Search\"> <input type=\"text\" aria-label=\"Search...\" data-placeholder=\"Search...\" name=\"s\"></form></div></div><div class=\"mega-toggle-block mega-menu-toggle-animated-block mega-toggle-block-3\" id=\"mega-toggle-block-3\"><button aria-label=\"Toggle Menu\" class=\"mega-toggle-animated mega-toggle-animated-slider\" type=\"button\" aria-expanded=\"false\"> <span class=\"mega-toggle-animated-box\"> <span class=\"mega-toggle-animated-inner\"></span> </span> </button></div></div></div><ul id=\"mega-menu-primary\" class=\"mega-menu max-mega-menu mega-menu-horizontal\" data-event=\"hover_intent\" data-effect=\"slide\" data-effect-speed=\"200\" data-effect-mobile=\"disabled\" data-effect-speed-mobile=\"200\" data-mobile-force-width=\"false\" data-second-click=\"go\" data-document-click=\"collapse\" data-vertical-behaviour=\"standard\" data-breakpoint=\"734\" data-unbind=\"true\"><li class=\"mega-menu-item mega-menu-item-type-post_type mega-menu-item-object-page mega-current-menu-ancestor mega-current_page_ancestor mega-menu-item-has-children mega-menu-megamenu mega-align-bottom-left mega-menu-megamenu mega-menu-item-69\" id=\"mega-menu-item-69\"><a class=\"mega-menu-link\" href=\"https://space-facts.com/planets/\" aria-haspopup=\"true\" aria-expanded=\"false\" tabindex=\"0\">Planets<span class=\"mega-indicator\"></span></a><ul class=\"mega-sub-menu\"><li class=\"mega-menu-item mega-menu-item-type-post_type mega-menu-item-object-page mega-current-menu-ancestor mega-current-menu-parent mega-current_page_parent mega-current_page_ancestor mega-menu-item-has-children mega-menu-columns-1-of-3 mega-menu-item-436\" id=\"mega-menu-item-436\"><a class=\"mega-menu-link\" href=\"https://space-facts.com/terrestrial-planets/\">Terrestrial Planets<span class=\"mega-indicator\"></span></a><ul class=\"mega-sub-menu\"><li class=\"mega-menu-item mega-menu-item-type-post_type mega-menu-item-object-page mega-menu-item-139\" id=\"mega-menu-item-139\"><a class=\"mega-menu-link\" href=\"https://space-facts.com/mercury/\">Mercury</a></li><li class=\"mega-menu-item mega-menu-item-type-post_type mega-menu-item-object-page mega-menu-item-140\" id=\"mega-menu-item-140\"><a class=\"mega-menu-link\" href=\"https://space-facts.com/venus/\">Venus</a></li><li class=\"mega-menu-item mega-menu-item-type-post_type mega-menu-item-object-page mega-menu-item-138\" id=\"mega-menu-item-138\"><a class=\"mega-menu-link\" href=\"https://space-facts.com/earth/\">Earth</a></li><li class=\"mega-menu-item mega-menu-item-type-post_type mega-menu-item-object-page mega-current-menu-item mega-page_item mega-page-item-7 mega-current_page_item mega-menu-item-68\" id=\"mega-menu-item-68\"><a class=\"mega-menu-link\" href=\"https://space-facts.com/mars/\">Mars</a></li></ul></li><li class=\"mega-menu-item mega-menu-item-type-post_type mega-menu-item-object-page mega-menu-item-has-children mega-menu-columns-1-of-3 mega-menu-item-435\" id=\"mega-menu-item-435\"><a class=\"mega-menu-link\" href=\"https://space-facts.com/gas-giants/\">Gas Giants<span class=\"mega-indicator\"></span></a><ul class=\"mega-sub-menu\"><li class=\"mega-menu-item mega-menu-item-type-post_type mega-menu-item-object-page mega-menu-item-78\" id=\"mega-menu-item-78\"><a class=\"mega-menu-link\" href=\"https://space-facts.com/jupiter/\">Jupiter</a></li><li class=\"mega-menu-item mega-menu-item-type-post_type mega-menu-item-object-page mega-menu-item-143\" id=\"mega-menu-item-143\"><a class=\"mega-menu-link\" href=\"https://space-facts.com/saturn/\">Saturn</a></li><li class=\"mega-menu-item mega-menu-item-type-post_type mega-menu-item-object-page mega-menu-item-142\" id=\"mega-menu-item-142\"><a class=\"mega-menu-link\" href=\"https://space-facts.com/uranus/\">Uranus</a></li><li class=\"mega-menu-item mega-menu-item-type-post_type mega-menu-item-object-page mega-menu-item-141\" id=\"mega-menu-item-141\"><a class=\"mega-menu-link\" href=\"https://space-facts.com/neptune/\">Neptune</a></li></ul></li><li class=\"mega-menu-item mega-menu-item-type-post_type mega-menu-item-object-page mega-menu-item-has-children mega-menu-columns-1-of-3 mega-menu-item-85\" id=\"mega-menu-item-85\"><a class=\"mega-menu-link\" href=\"https://space-facts.com/dwarf-planets/\">Dwarf Planets<span class=\"mega-indicator\"></span></a><ul class=\"mega-sub-menu\"><li class=\"mega-menu-item mega-menu-item-type-post_type mega-menu-item-object-page mega-menu-item-133\" id=\"mega-menu-item-133\"><a class=\"mega-menu-link\" href=\"https://space-facts.com/ceres/\">Ceres</a></li><li class=\"mega-menu-item mega-menu-item-type-post_type mega-menu-item-object-page mega-menu-item-137\" id=\"mega-menu-item-137\"><a class=\"mega-menu-link\" href=\"https://space-facts.com/pluto/\">Pluto</a></li><li class=\"mega-menu-item mega-menu-item-type-post_type mega-menu-item-object-page mega-menu-item-135\" id=\"mega-menu-item-135\"><a class=\"mega-menu-link\" href=\"https://space-facts.com/haumea/\">Haumea</a></li><li class=\"mega-menu-item mega-menu-item-type-post_type mega-menu-item-object-page mega-menu-item-136\" id=\"mega-menu-item-136\"><a class=\"mega-menu-link\" href=\"https://space-facts.com/makemake/\">Makemake</a></li><li class=\"mega-menu-item mega-menu-item-type-post_type mega-menu-item-object-page mega-menu-item-134\" id=\"mega-menu-item-134\"><a class=\"mega-menu-link\" href=\"https://space-facts.com/eris/\">Eris</a></li></ul></li></ul></li><li class=\"mega-menu-item mega-menu-item-type-post_type mega-menu-item-object-page mega-menu-item-has-children mega-align-bottom-left mega-menu-flyout mega-menu-item-90\" id=\"mega-menu-item-90\"><a class=\"mega-menu-link\" href=\"https://space-facts.com/solar-system/\" aria-haspopup=\"true\" aria-expanded=\"false\" tabindex=\"0\">Solar System<span class=\"mega-indicator\"></span></a><ul class=\"mega-sub-menu\"><li class=\"mega-menu-item mega-menu-item-type-post_type mega-menu-item-object-page mega-menu-item-473\" id=\"mega-menu-item-473\"><a class=\"mega-menu-link\" href=\"https://space-facts.com/the-sun/\">The Sun</a></li><li class=\"mega-menu-item mega-menu-item-type-post_type mega-menu-item-object-page mega-menu-item-481\" id=\"mega-menu-item-481\"><a class=\"mega-menu-link\" href=\"https://space-facts.com/solar-eclipse/\">Solar Eclipses</a></li><li class=\"mega-menu-item mega-menu-item-type-post_type mega-menu-item-object-page mega-menu-item-469\" id=\"mega-menu-item-469\"><a class=\"mega-menu-link\" href=\"https://space-facts.com/asteroid-belt/\">Asteroid Belt</a></li><li class=\"mega-menu-item mega-menu-item-type-post_type mega-menu-item-object-page mega-menu-item-484\" id=\"mega-menu-item-484\"><a class=\"mega-menu-link\" href=\"https://space-facts.com/kuiper-belt/\">Kuiper Belt</a></li><li class=\"mega-menu-item mega-menu-item-type-post_type mega-menu-item-object-page mega-menu-item-470\" id=\"mega-menu-item-470\"><a class=\"mega-menu-link\" href=\"https://space-facts.com/oort-cloud/\">Oort Cloud</a></li><li class=\"mega-menu-item mega-menu-item-type-post_type mega-menu-item-object-page mega-menu-item-472\" id=\"mega-menu-item-472\"><a class=\"mega-menu-link\" href=\"https://space-facts.com/asteroids/\">Asteroids</a></li><li class=\"mega-menu-item mega-menu-item-type-post_type mega-menu-item-object-page mega-menu-item-483\" id=\"mega-menu-item-483\"><a class=\"mega-menu-link\" href=\"https://space-facts.com/comets/\">Comets</a></li><li class=\"mega-menu-item mega-menu-item-type-post_type mega-menu-item-object-page mega-menu-item-471\" id=\"mega-menu-item-471\"><a class=\"mega-menu-link\" href=\"https://space-facts.com/meteorites/\">Meteorites</a></li><li class=\"mega-menu-item mega-menu-item-type-post_type mega-menu-item-object-page mega-menu-item-482\" id=\"mega-menu-item-482\"><a class=\"mega-menu-link\" href=\"https://space-facts.com/meteor-showers/\">Meteor Showers</a></li></ul></li><li class=\"mega-menu-item mega-menu-item-type-post_type mega-menu-item-object-page mega-menu-item-has-children mega-align-bottom-left mega-menu-flyout mega-menu-item-86\" id=\"mega-menu-item-86\"><a class=\"mega-menu-link\" href=\"https://space-facts.com/galaxies/\" aria-haspopup=\"true\" aria-expanded=\"false\" tabindex=\"0\">Galaxies<span class=\"mega-indicator\"></span></a><ul class=\"mega-sub-menu\"><li class=\"mega-menu-item mega-menu-item-type-post_type mega-menu-item-object-page mega-menu-item-368\" id=\"mega-menu-item-368\"><a class=\"mega-menu-link\" href=\"https://space-facts.com/galaxies/milky-way/\">Milky Way</a></li><li class=\"mega-menu-item mega-menu-item-type-post_type mega-menu-item-object-page mega-menu-item-365\" id=\"mega-menu-item-365\"><a class=\"mega-menu-link\" href=\"https://space-facts.com/galaxies/andromeda/\">Andromeda</a></li><li class=\"mega-menu-item mega-menu-item-type-post_type mega-menu-item-object-page mega-menu-item-162\" id=\"mega-menu-item-162\"><a class=\"mega-menu-link\" href=\"https://space-facts.com/galaxies/messier-87/\">Messier 87</a></li><li class=\"mega-menu-item mega-menu-item-type-post_type mega-menu-item-object-page mega-menu-item-366\" id=\"mega-menu-item-366\"><a class=\"mega-menu-link\" href=\"https://space-facts.com/galaxies/antennae/\">Antennae</a></li><li class=\"mega-menu-item mega-menu-item-type-post_type mega-menu-item-object-page mega-menu-item-367\" id=\"mega-menu-item-367\"><a class=\"mega-menu-link\" href=\"https://space-facts.com/galaxies/magellanic-clouds/\">Magellanic Clouds</a></li><li class=\"mega-menu-item mega-menu-item-type-post_type mega-menu-item-object-page mega-menu-item-369\" id=\"mega-menu-item-369\"><a class=\"mega-menu-link\" href=\"https://space-facts.com/galaxies/pinwheel/\">Pinwheel</a></li><li class=\"mega-menu-item mega-menu-item-type-post_type mega-menu-item-object-page mega-menu-item-370\" id=\"mega-menu-item-370\"><a class=\"mega-menu-link\" href=\"https://space-facts.com/galaxies/sombrero/\">Sombrero</a></li><li class=\"mega-menu-item mega-menu-item-type-post_type mega-menu-item-object-page mega-menu-item-371\" id=\"mega-menu-item-371\"><a class=\"mega-menu-link\" href=\"https://space-facts.com/galaxies/triangulum/\">Triangulum</a></li><li class=\"mega-menu-item mega-menu-item-type-post_type mega-menu-item-object-page mega-menu-item-372\" id=\"mega-menu-item-372\"><a class=\"mega-menu-link\" href=\"https://space-facts.com/galaxies/whirlpool/\">Whirlpool</a></li><li class=\"mega-menu-item mega-menu-item-type-post_type mega-menu-item-object-page mega-menu-item-457\" id=\"mega-menu-item-457\"><a class=\"mega-menu-link\" href=\"https://space-facts.com/galaxies/types/\">Galaxy Types</a></li></ul></li><li class=\"mega-menu-item mega-menu-item-type-post_type mega-menu-item-object-page mega-menu-item-has-children mega-menu-megamenu mega-align-bottom-left mega-menu-megamenu mega-menu-item-87\" id=\"mega-menu-item-87\"><a class=\"mega-menu-link\" href=\"https://space-facts.com/moons/\" aria-haspopup=\"true\" aria-expanded=\"false\" tabindex=\"0\">Moons<span class=\"mega-indicator\"></span></a><ul class=\"mega-sub-menu\"><li class=\"mega-menu-item mega-menu-item-type-post_type mega-menu-item-object-page mega-menu-columns-1-of-4 mega-menu-item-403\" id=\"mega-menu-item-403\"><a class=\"mega-menu-link\" href=\"https://space-facts.com/the-moon/\">The Moon</a></li><li class=\"mega-menu-item mega-menu-item-type-custom mega-menu-item-object-custom mega-menu-item-has-children mega-menu-columns-1-of-4 mega-menu-item-418\" id=\"mega-menu-item-418\"><a class=\"mega-menu-link\" href=\"/moons/#mars\">Mars\\' Moons<span class=\"mega-indicator\"></span></a><ul class=\"mega-sub-menu\"><li class=\"mega-menu-item mega-menu-item-type-post_type mega-menu-item-object-page mega-menu-item-413\" id=\"mega-menu-item-413\"><a class=\"mega-menu-link\" href=\"https://space-facts.com/moons/phobos/\">Phobos</a></li><li class=\"mega-menu-item mega-menu-item-type-post_type mega-menu-item-object-page mega-menu-item-412\" id=\"mega-menu-item-412\"><a class=\"mega-menu-link\" href=\"https://space-facts.com/moons/deimos/\">Deimos</a></li></ul></li><li class=\"mega-menu-item mega-menu-item-type-custom mega-menu-item-object-custom mega-menu-item-has-children mega-menu-columns-1-of-4 mega-menu-item-419\" id=\"mega-menu-item-419\"><a class=\"mega-menu-link\" href=\"/moons/#jupiter\">Jupiter\\'s Moons<span class=\"mega-indicator\"></span></a><ul class=\"mega-sub-menu\"><li class=\"mega-menu-item mega-menu-item-type-post_type mega-menu-item-object-page mega-menu-item-415\" id=\"mega-menu-item-415\"><a class=\"mega-menu-link\" href=\"https://space-facts.com/moons/io/\">Io</a></li><li class=\"mega-menu-item mega-menu-item-type-post_type mega-menu-item-object-page mega-menu-item-163\" id=\"mega-menu-item-163\"><a class=\"mega-menu-link\" href=\"https://space-facts.com/moons/europa/\">Europa</a></li><li class=\"mega-menu-item mega-menu-item-type-post_type mega-menu-item-object-page mega-menu-item-414\" id=\"mega-menu-item-414\"><a class=\"mega-menu-link\" href=\"https://space-facts.com/moons/ganymede/\">Ganymede</a></li><li class=\"mega-menu-item mega-menu-item-type-post_type mega-menu-item-object-page mega-menu-item-416\" id=\"mega-menu-item-416\"><a class=\"mega-menu-link\" href=\"https://space-facts.com/moons/callisto/\">Callisto</a></li></ul></li><li class=\"mega-menu-item mega-menu-item-type-custom mega-menu-item-object-custom mega-menu-item-has-children mega-menu-columns-1-of-4 mega-menu-item-420\" id=\"mega-menu-item-420\"><a class=\"mega-menu-link\" href=\"/moons/#saturn\">Saturn\\'s Moons<span class=\"mega-indicator\"></span></a><ul class=\"mega-sub-menu\"><li class=\"mega-menu-item mega-menu-item-type-post_type mega-menu-item-object-page mega-menu-item-411\" id=\"mega-menu-item-411\"><a class=\"mega-menu-link\" href=\"https://space-facts.com/moons/enceladus/\">Enceladus</a></li><li class=\"mega-menu-item mega-menu-item-type-post_type mega-menu-item-object-page mega-menu-item-410\" id=\"mega-menu-item-410\"><a class=\"mega-menu-link\" href=\"https://space-facts.com/moons/rhea/\">Rhea</a></li><li class=\"mega-menu-item mega-menu-item-type-post_type mega-menu-item-object-page mega-menu-item-409\" id=\"mega-menu-item-409\"><a class=\"mega-menu-link\" href=\"https://space-facts.com/moons/titan/\">Titan</a></li><li class=\"mega-menu-item mega-menu-item-type-post_type mega-menu-item-object-page mega-menu-item-408\" id=\"mega-menu-item-408\"><a class=\"mega-menu-link\" href=\"https://space-facts.com/moons/iapetus/\">Iapetus</a></li></ul></li><li class=\"mega-menu-item mega-menu-item-type-custom mega-menu-item-object-custom mega-menu-item-has-children mega-menu-columns-1-of-4 mega-menu-clear mega-menu-item-421\" id=\"mega-menu-item-421\"><a class=\"mega-menu-link\" href=\"/moons/#uranus\">Uranus\\' Moons<span class=\"mega-indicator\"></span></a><ul class=\"mega-sub-menu\"><li class=\"mega-menu-item mega-menu-item-type-post_type mega-menu-item-object-page mega-menu-item-407\" id=\"mega-menu-item-407\"><a class=\"mega-menu-link\" href=\"https://space-facts.com/moons/miranda/\">Miranda</a></li><li class=\"mega-menu-item mega-menu-item-type-post_type mega-menu-item-object-page mega-menu-item-406\" id=\"mega-menu-item-406\"><a class=\"mega-menu-link\" href=\"https://space-facts.com/moons/titania/\">Titania</a></li></ul></li><li class=\"mega-menu-item mega-menu-item-type-custom mega-menu-item-object-custom mega-menu-item-has-children mega-menu-columns-1-of-4 mega-menu-item-422\" id=\"mega-menu-item-422\"><a class=\"mega-menu-link\" href=\"/moons/#neptune\">Neptune\\'s Moons<span class=\"mega-indicator\"></span></a><ul class=\"mega-sub-menu\"><li class=\"mega-menu-item mega-menu-item-type-post_type mega-menu-item-object-page mega-menu-item-405\" id=\"mega-menu-item-405\"><a class=\"mega-menu-link\" href=\"https://space-facts.com/moons/triton/\">Triton</a></li></ul></li><li class=\"mega-menu-item mega-menu-item-type-custom mega-menu-item-object-custom mega-menu-item-has-children mega-menu-columns-1-of-4 mega-menu-item-423\" id=\"mega-menu-item-423\"><a class=\"mega-menu-link\" href=\"/moons/#pluto\">Pluto\\'s Moons<span class=\"mega-indicator\"></span></a><ul class=\"mega-sub-menu\"><li class=\"mega-menu-item mega-menu-item-type-post_type mega-menu-item-object-page mega-menu-item-404\" id=\"mega-menu-item-404\"><a class=\"mega-menu-link\" href=\"https://space-facts.com/moons/charon/\">Charon</a></li></ul></li></ul></li><li class=\"mega-menu-item mega-menu-item-type-post_type mega-menu-item-object-page mega-menu-item-has-children mega-align-bottom-left mega-menu-flyout mega-menu-item-93\" id=\"mega-menu-item-93\"><a class=\"mega-menu-link\" href=\"https://space-facts.com/universe/\" aria-haspopup=\"true\" aria-expanded=\"false\" tabindex=\"0\">Universe<span class=\"mega-indicator\"></span></a><ul class=\"mega-sub-menu\"><li class=\"mega-menu-item mega-menu-item-type-post_type mega-menu-item-object-page mega-menu-item-456\" id=\"mega-menu-item-456\"><a class=\"mega-menu-link\" href=\"https://space-facts.com/black-holes/\">Black Holes</a></li><li class=\"mega-menu-item mega-menu-item-type-post_type mega-menu-item-object-page mega-menu-item-454\" id=\"mega-menu-item-454\"><a class=\"mega-menu-link\" href=\"https://space-facts.com/stars/\">Stars</a></li><li class=\"mega-menu-item mega-menu-item-type-post_type mega-menu-item-object-page mega-menu-item-455\" id=\"mega-menu-item-455\"><a class=\"mega-menu-link\" href=\"https://space-facts.com/nebulae/\">Nebulae</a></li><li class=\"mega-menu-item mega-menu-item-type-post_type mega-menu-item-object-page mega-menu-item-434\" id=\"mega-menu-item-434\"><a class=\"mega-menu-link\" href=\"https://space-facts.com/exoplanets/\">Exoplanets</a></li></ul></li><li class=\"mega-menu-item mega-menu-item-type-custom mega-menu-item-object-custom mega-align-bottom-left mega-menu-flyout mega-hide-on-mobile mega-menu-item-6556\" id=\"mega-menu-item-6556\"><div class=\"mega-search-wrap\"><form class=\"mega-search expand-to-left mega-search-closed\" role=\"search\" action=\"https://space-facts.com/\"> <span class=\"dashicons dashicons-search search-icon\"></span> <input type=\"submit\" value=\"Search\"> <input type=\"text\" aria-label=\"Search...\" data-placeholder=\"Search...\" name=\"s\" placeholder=\"\"></form></div></li></ul></div> </nav><!-- #main-navigation --></div><!-- .header-main --></header><!-- #masthead --><div id=\"content\" class=\"site-content container clearfix\" style=\"height: auto !important;\"><div id=\"custom_html-5\" class=\"widget_text widget widget_custom_html ad-header\"><div class=\"textwidget custom-html-widget\"><center><script async=\"\" src=\"https://pagead2.googlesyndication.com/pagead/js/adsbygoogle.js\"></script> <!-- Header --> <ins class=\"adsbygoogle\" style=\"display: block; height: 280px;\" data-ad-client=\"ca-pub-4251889121233823\" data-ad-slot=\"3425931548\" data-ad-format=\"auto\" data-full-width-responsive=\"true\" data-adsbygoogle-status=\"done\"><ins id=\"aswift_1_expand\" style=\"display:inline-table;border:none;height:280px;margin:0;padding:0;position:relative;visibility:visible;width:800px;background-color:transparent;\"><ins id=\"aswift_1_anchor\" style=\"display:block;border:none;height:280px;margin:0;padding:0;position:relative;visibility:visible;width:800px;background-color:transparent;\"><iframe width=\"800\" height=\"280\" frameborder=\"0\" marginwidth=\"0\" marginheight=\"0\" vspace=\"0\" hspace=\"0\" allowtransparency=\"true\" scrolling=\"no\" allowfullscreen=\"true\" onload=\"var i=this.id,s=window.google_iframe_oncopy,H=s&amp;&amp;s.handlers,h=H&amp;&amp;H[i],w=this.contentWindow,d;try{d=w.document}catch(e){}if(h&amp;&amp;d&amp;&amp;(!d.body||!d.body.firstChild)){if(h.call){setTimeout(h,0)}else if(h.match){try{h=s.upd(h,i)}catch(e){}w.location.replace(h)}}\" id=\"aswift_1\" name=\"aswift_1\" style=\"left: 0px; position: absolute; top: 0px; border: 0px; width: 800px; height: 280px; overflow: visible;\"></iframe></ins></ins></ins> <script>(adsbygoogle = window.adsbygoogle || []).push({});</script></center></div></div> <section id=\"primary\" class=\"content-single content-area\"> <main id=\"main\" class=\"site-main\" role=\"main\"> <article id=\"post-7\" class=\"post-7 page type-page status-publish has-post-thumbnail hentry\"><header class=\"entry-header\"><h1 class=\"page-title\">Mars Facts</h1> </header><!-- .entry-header --><div class=\"entry-content clearfix\"><div class=\"black-background\"><figure><img loading=\"eager\" class=\"aligncenter size-full wp-image-5696\" src=\"https://space-facts.com/wp/wp-content/uploads/mars.jpg\" alt=\"Mars\" width=\"700\" height=\"700\" srcset=\"https://space-facts.com/wp-content/uploads/mars.jpg 700w, https://space-facts.com/wp-content/uploads/mars-150x150.jpg 150w, https://space-facts.com/wp-content/uploads/mars-300x300.jpg 300w, https://space-facts.com/wp-content/uploads/mars-180x180.jpg 180w\" sizes=\"(max-width: 700px) 100vw, 700px\"></figure></div><p>Mars is the fourth planet from the <a href=\"https://space-facts.com/the-sun/\">Sun</a> and is the second smallest planet in the solar system. Named after the Roman god of war, Mars is also often described as the “Red Planet” due to its reddish appearance. Mars is a <a href=\"https://space-facts.com/terrestrial-planets/\">terrestrial planet</a> with a thin atmosphere composed primarily of carbon dioxide.</p><h2>Mars Diagrams</h2><div id=\"diagrams\" class=\"diagram-background\"><div class=\"wp-block-image\"><figure class=\"aligncenter\"><img loading=\"lazy\" src=\"https://space-facts.com/wp/wp-content/uploads/mars-size.png\" alt=\"Mars size compared to Earth\" class=\"wp-image-6263\" srcset=\"https://space-facts.com/wp-content/uploads/mars-size.png 760w, https://space-facts.com/wp-content/uploads/mars-size-300x118.png 300w\" sizes=\"(max-width: 760px) 100vw, 760px\"><figcaption><span class=\"mars\">Mars</span> size compared to <span class=\"earth\">Earth</span></figcaption></figure></div><div class=\"wp-block-image\"><figure class=\"aligncenter\"><img loading=\"lazy\" src=\"https://space-facts.com/wp/wp-content/uploads/mars-orbit.png\" alt=\"Mars distance from the Sun\" class=\"wp-image-6262\" srcset=\"https://space-facts.com/wp-content/uploads/mars-orbit.png 760w, https://space-facts.com/wp-content/uploads/mars-orbit-300x20.png 300w\" sizes=\"(max-width: 760px) 100vw, 760px\"><figcaption><span class=\"mars\">Mars</span> distance from the <span class=\"sun\">Sun</span> and orbital eccentricity</figcaption></figure></div><table id=\"tablepress-comp-mars\" class=\"tablepress tablepress-id-comp-mars blue-table\"><thead><tr class=\"row-1\"><th class=\"column-1\"><strong>Mars - Earth Comparison</strong></th><th class=\"column-2\"><span class=\"mars\">Mars</span></th><th class=\"column-3\"><span class=\"earth\">Earth</span></th></tr></thead><tbody><tr class=\"row-2\"><td class=\"column-1\">Diameter:</td><td class=\"column-2\"><span class=\"mars-s\">6,779 km</span></td><td class=\"column-3\"><span class=\"earth-s\">12,742 km</span></td></tr><tr class=\"row-3\"><td class=\"column-1\">Mass:</td><td class=\"column-2\"><span class=\"mars-s\">6.39 × 10^23 kg</span></td><td class=\"column-3\"><span class=\"earth-s\">5.97 × 10^24 kg</span></td></tr><tr class=\"row-4\"><td class=\"column-1\">Moons:</td><td class=\"column-2\"><span class=\"mars-s\">2</span></td><td class=\"column-3\"><span class=\"earth-s\">1</span></td></tr><tr class=\"row-5\"><td class=\"column-1\">Distance from Sun:</td><td class=\"column-2\"><span class=\"mars-s\">227,943,824 km</span></td><td class=\"column-3\"><span class=\"earth-s\">149,598,262 km</span></td></tr><tr class=\"row-6\"><td class=\"column-1\">Length of Year:</td><td class=\"column-2\"><span class=\"mars-s\">687 Earth days</span></td><td class=\"column-3\"><span class=\"earth-s\">365.24 days</span></td></tr><tr class=\"row-7\"><td class=\"column-1\">Temperature:</td><td class=\"column-2\"><span class=\"mars-s\">-153 to 20 °C</span></td><td class=\"column-3\"><span class=\"earth-s\">-88 to 58°C</span></td></tr></tbody></table></div><div id=\"facts\"><h2>Facts about Mars</h2><ul><li><strong>Mars and Earth have approximately the same landmass.</strong><br>Even though Mars has only 15% of the <a href=\"https://space-facts.com/earth/\">Earth’s</a> volume and just over 10% of the Earth’s mass, around two thirds of the Earth’s surface is covered in water. Martian surface gravity is only 37% of the Earth’s (meaning you could leap nearly three times higher on Mars).</li><li><strong>Mars is home to the tallest mountain in the solar system.</strong><br><a href=\"https://space-facts.com/mars-features/#olympus\">Olympus Mons</a>, a shield volcano, is 21km high and 600km in diameter. Despite having formed over billions of years, evidence from volcanic lava flows is so recent many scientists believe it could still be active.</li><li><strong>Only 18 missions to Mars have been successful.</strong><br>As of September 2014 there have been 40 <a href=\"https://space-facts.com/mars-missions/\">missions to Mars</a>, including orbiters, landers and rovers but not counting flybys. The most recent arrivals include the Mars Curiosity mission in 2012, the MAVEN mission, which arrived on September 22, 2014, followed by the Indian Space Research Organization’s MOM Mangalyaan orbiter, which arrived on September 24, 2014. The next missions to arrive will be the European Space Agency’s ExoMars mission, comprising an orbiter, lander, and a rover, followed by NASA’s InSight robotic lander mission, slated for launch in March 2016 and a planned arrival in September, 2016.</li><li><strong>Mars has the largest dust storms in the solar system.</strong><br>They can last for months and cover the entire planet. The seasons are extreme because its elliptical (oval-shaped) orbital path around the Sun is more elongated than most other planets in the <a href=\"https://space-facts.com/solar-system/\">solar system</a>.</li><li><strong>On Mars the Sun appears about half the size as it does on Earth.</strong><br>At the closest point to the Sun, the Martian southern hemisphere leans towards the Sun, causing a short, intensely hot summer, while the northern hemisphere endures a brief, cold winter: at its farthest point from the Sun, the Martian northern hemisphere leans towards the Sun, causing a long, mild summer, while the southern hemisphere endures a lengthy, cold winter.</li><li><strong>Pieces of Mars have fallen to Earth.</strong><br>Scientists have found tiny traces of Martian atmosphere within meteorites violently ejected from Mars, then orbiting the solar system amongst galactic debris for millions of years, before crash landing on Earth. This allowed scientists to begin studying Mars prior to launching space missions.</li><li><strong>Mars takes its name from the Roman god of war.</strong><br>The ancient Greeks called the planet Ares, after their god of war; the Romans then did likewise, associating the planet’s blood-red colour with Mars, their own god of war. Interestingly, other ancient cultures also focused on colour – to China’s astronomers it was ‘the fire star’, whilst Egyptian priests called on ‘Her Desher’, or ‘the red one’. The red colour Mars is known for is due to the rock and dust covering its surface being rich in iron.</li><li><strong>There are signs of liquid water on Mars.</strong><br>For years Mars has been known to have water in the form of ice. The first signs of trickling water are dark stripes or stains on crater wall and cliffs seen in satellite images. Due to Mars’ atmosphere this water would have to be salty to prevent it from freezing or vaporising.</li><li><strong>One day Mars will have a ring.</strong><br>In the next 20-40 million years Mars’ largest moon Phobos will be torn apart by gravitational forces leading to the creation of a ring that could last up to 100 million years.</li></ul></div><p class=\"sources\"><strong>Sources:</strong><br>Image – astrogeology.usgs.gov/maps/mars-viking-hemisphere-point-perspectives<br></p><div class=\"sharedaddy sd-sharing-enabled\"><div class=\"robots-nocontent sd-block sd-social sd-social-icon sd-sharing\"><div class=\"sd-content\"><ul><li class=\"share-twitter\"><a rel=\"nofollow noopener noreferrer\" data-shared=\"sharing-twitter-7\" class=\"share-twitter sd-button share-icon no-text\" href=\"https://space-facts.com/mars/?share=twitter&amp;nb=1\" target=\"_blank\" title=\"Click to share on Twitter\"><span></span><span class=\"sharing-screen-reader-text\">Click to share on Twitter (Opens in new window)</span></a></li><li class=\"share-facebook\"><a rel=\"nofollow noopener noreferrer\" data-shared=\"sharing-facebook-7\" class=\"share-facebook sd-button share-icon no-text\" href=\"https://space-facts.com/mars/?share=facebook&amp;nb=1\" target=\"_blank\" title=\"Click to share on Facebook\"><span></span><span class=\"sharing-screen-reader-text\">Click to share on Facebook (Opens in new window)</span></a></li><li class=\"share-pinterest\"><a rel=\"nofollow noopener noreferrer\" data-shared=\"sharing-pinterest-7\" class=\"share-pinterest sd-button share-icon no-text\" href=\"https://space-facts.com/mars/?share=pinterest&amp;nb=1\" target=\"_blank\" title=\"Click to share on Pinterest\"><span><span class=\"share-count\">57</span></span><span class=\"sharing-screen-reader-text\">Click to share on Pinterest (Opens in new window)<span class=\"share-count\">57</span></span></a></li><li class=\"share-reddit\"><a rel=\"nofollow noopener noreferrer\" data-shared=\"\" class=\"share-reddit sd-button share-icon no-text\" href=\"https://space-facts.com/mars/?share=reddit&amp;nb=1\" target=\"_blank\" title=\"Click to share on Reddit\"><span></span><span class=\"sharing-screen-reader-text\">Click to share on Reddit (Opens in new window)</span></a></li><li class=\"share-tumblr\"><a rel=\"nofollow noopener noreferrer\" data-shared=\"\" class=\"share-tumblr sd-button share-icon no-text\" href=\"https://space-facts.com/mars/?share=tumblr&amp;nb=1\" target=\"_blank\" title=\"Click to share on Tumblr\"><span></span><span class=\"sharing-screen-reader-text\">Click to share on Tumblr (Opens in new window)</span></a></li><li class=\"share-end\"></li></ul></div></div></div></div><!-- .entry-content --></article><div id=\"custom_html-3\" class=\"widget_text widget widget_custom_html widget-bottom\"><div class=\"textwidget custom-html-widget\"><div class=\"ad-bottom\"><center><script async=\"\" src=\"https://pagead2.googlesyndication.com/pagead/js/adsbygoogle.js\"></script> <!-- Footer --> <ins class=\"adsbygoogle\" style=\"display: block; height: 280px;\" data-ad-client=\"ca-pub-4251889121233823\" data-ad-slot=\"4958505060\" data-ad-format=\"rectangle\" data-full-width-responsive=\"true\" data-adsbygoogle-status=\"done\"><ins id=\"aswift_2_expand\" style=\"display:inline-table;border:none;height:280px;margin:0;padding:0;position:relative;visibility:visible;width:400px;background-color:transparent;\"><ins id=\"aswift_2_anchor\" style=\"display:block;border:none;height:280px;margin:0;padding:0;position:relative;visibility:visible;width:400px;background-color:transparent;\"><iframe width=\"400\" height=\"280\" frameborder=\"0\" marginwidth=\"0\" marginheight=\"0\" vspace=\"0\" hspace=\"0\" allowtransparency=\"true\" scrolling=\"no\" allowfullscreen=\"true\" onload=\"var i=this.id,s=window.google_iframe_oncopy,H=s&amp;&amp;s.handlers,h=H&amp;&amp;H[i],w=this.contentWindow,d;try{d=w.document}catch(e){}if(h&amp;&amp;d&amp;&amp;(!d.body||!d.body.firstChild)){if(h.call){setTimeout(h,0)}else if(h.match){try{h=s.upd(h,i)}catch(e){}w.location.replace(h)}}\" id=\"aswift_2\" name=\"aswift_2\" style=\"left:0;position:absolute;top:0;border:0px;width:400px;height:280px;\"></iframe></ins></ins></ins> <script>(adsbygoogle = window.adsbygoogle || []).push({});</script></center></div></div></div><div id=\"text-69\" class=\"widget widget_text widget-bottom\"><div class=\"textwidget\"><h3 class=\"widget-title widget-header\">Related space facts:</h3><div id=\"jp-relatedposts\" class=\"jp-relatedposts\" style=\"display: block;\"><div class=\"jp-relatedposts-items jp-relatedposts-items-visual jp-relatedposts-grid \"><div class=\"jp-relatedposts-post jp-relatedposts-post0 jp-relatedposts-post-thumbs\" data-post-id=\"424\" data-post-format=\"false\"><a class=\"jp-relatedposts-post-a\" href=\"https://space-facts.com/terrestrial-planets/\" title=\"Terrestrial Planet Facts\\n\\nThe four innermost planets of our solar system (Mercury, Venus, Earth and Mars) are called the &quot;terrestrial&quot; planets. The name comes from the word &quot;telluric&quot; derived from the Latin words &quot;terra&quot; and &quot;tellus&quot;, used to refer to Earth. They are made mostly of silicate rocks and metals, with solid surfaces…\" rel=\"nofollow\" data-origin=\"7\" data-position=\"0\"><img class=\"jp-relatedposts-post-img\" src=\"https://i0.wp.com/space-facts.com/wp-content/uploads/terrestrial-planet-orbits.png?resize=350%2C200&amp;ssl=1\" width=\"350\" alt=\"Terrestrial Planet Facts\"></a><h4 class=\"jp-relatedposts-post-title\"><a class=\"jp-relatedposts-post-a\" href=\"https://space-facts.com/terrestrial-planets/\" title=\"Terrestrial Planet Facts\\n\\nThe four innermost planets of our solar system (Mercury, Venus, Earth and Mars) are called the &quot;terrestrial&quot; planets. The name comes from the word &quot;telluric&quot; derived from the Latin words &quot;terra&quot; and &quot;tellus&quot;, used to refer to Earth. They are made mostly of silicate rocks and metals, with solid surfaces…\" rel=\"nofollow\" data-origin=\"7\" data-position=\"0\">Terrestrial Planet Facts</a></h4><p class=\"jp-relatedposts-post-excerpt\">The four innermost planets of our solar system (Mercury, Venus, Earth and Mars) are called the \"terrestrial\" planets. The name comes from the word \"telluric\" derived from the Latin words \"terra\" and \"tellus\", used to refer to Earth. They are made mostly of silicate rocks and metals, with solid surfaces…</p></div><div class=\"jp-relatedposts-post jp-relatedposts-post1 jp-relatedposts-post-thumbs\" data-post-id=\"119\" data-post-format=\"false\"><a class=\"jp-relatedposts-post-a\" href=\"https://space-facts.com/earth/\" title=\"Earth Facts\\n\\nEarth is the third planet from the Sun and is the largest of the terrestrial planets. The Earth is the only planet in our solar system not to be named after a Greek or Roman deity. The Earth was formed approximately 4.54 billion years ago and is the only known…\" rel=\"nofollow\" data-origin=\"7\" data-position=\"1\"><img class=\"jp-relatedposts-post-img\" src=\"https://i1.wp.com/space-facts.com/wp-content/uploads/earth.png?resize=350%2C200&amp;ssl=1\" width=\"350\" alt=\"Earth Facts\"></a><h4 class=\"jp-relatedposts-post-title\"><a class=\"jp-relatedposts-post-a\" href=\"https://space-facts.com/earth/\" title=\"Earth Facts\\n\\nEarth is the third planet from the Sun and is the largest of the terrestrial planets. The Earth is the only planet in our solar system not to be named after a Greek or Roman deity. The Earth was formed approximately 4.54 billion years ago and is the only known…\" rel=\"nofollow\" data-origin=\"7\" data-position=\"1\">Earth Facts</a></h4><p class=\"jp-relatedposts-post-excerpt\">Earth is the third planet from the Sun and is the largest of the terrestrial planets. The Earth is the only planet in our solar system not to be named after a Greek or Roman deity. The Earth was formed approximately 4.54 billion years ago and is the only known…</p></div><div class=\"jp-relatedposts-post jp-relatedposts-post2 jp-relatedposts-post-thumbs\" data-post-id=\"460\" data-post-format=\"false\"><a class=\"jp-relatedposts-post-a\" href=\"https://space-facts.com/asteroids/\" title=\"Asteroid Facts\\n\\nWhat is an Asteroid? Asteroids are small, rocky solar system bodies that populate interplanetary space out to the orbit of Jupiter. There are millions of them, and they are often grouped by their composition. The planetary science community refers to them as minor planets, a general term applied to solar…\" rel=\"nofollow\" data-origin=\"7\" data-position=\"2\"><img class=\"jp-relatedposts-post-img\" src=\"https://i0.wp.com/space-facts.com/wp-content/uploads/asteroid-vesta.png?resize=350%2C200&amp;ssl=1\" width=\"350\" alt=\"Asteroid Facts\"></a><h4 class=\"jp-relatedposts-post-title\"><a class=\"jp-relatedposts-post-a\" href=\"https://space-facts.com/asteroids/\" title=\"Asteroid Facts\\n\\nWhat is an Asteroid? Asteroids are small, rocky solar system bodies that populate interplanetary space out to the orbit of Jupiter. There are millions of them, and they are often grouped by their composition. The planetary science community refers to them as minor planets, a general term applied to solar…\" rel=\"nofollow\" data-origin=\"7\" data-position=\"2\">Asteroid Facts</a></h4><p class=\"jp-relatedposts-post-excerpt\">What is an Asteroid? Asteroids are small, rocky solar system bodies that populate interplanetary space out to the orbit of Jupiter. There are millions of them, and they are often grouped by their composition. The planetary science community refers to them as minor planets, a general term applied to solar…</p></div></div></div></div></div><div id=\"comments\" class=\"comments-area\"></div><!-- #comments --> </main><!-- #main --> </section><!-- #primary --> <section id=\"secondary\" class=\"sidebar widget-area clearfix\" role=\"complementary\" style=\"height: auto !important;\"><aside id=\"text-2\" class=\"widget widget_text clearfix\"><div class=\"widget-header\"><h3 class=\"widget-title\">Mars Planet Profile</h3></div><div class=\"textwidget\"><table id=\"tablepress-p-mars\" class=\"tablepress tablepress-id-p-mars\"><tbody><tr class=\"row-1 odd\"><td class=\"column-1\"><strong>Equatorial Diameter:</strong></td><td class=\"column-2\">6,792 km<br></td></tr><tr class=\"row-2 even\"><td class=\"column-1\"><strong>Polar Diameter:</strong></td><td class=\"column-2\">6,752 km<br></td></tr><tr class=\"row-3 odd\"><td class=\"column-1\"><strong>Mass:</strong></td><td class=\"column-2\">6.39 × 10^23 kg<br> (0.11 Earths)</td></tr><tr class=\"row-4 even\"><td class=\"column-1\"><strong>Moons:</strong></td><td class=\"column-2\">2 (<a href=\"https://space-facts.com/moons/phobos/\">Phobos</a> &amp; <a href=\"https://space-facts.com/moons/deimos/\">Deimos</a>)</td></tr><tr class=\"row-5 odd\"><td class=\"column-1\"><strong>Orbit Distance:</strong></td><td class=\"column-2\">227,943,824 km<br> (1.38 AU)</td></tr><tr class=\"row-6 even\"><td class=\"column-1\"><strong>Orbit Period:</strong></td><td class=\"column-2\">687 days (1.9 years)<br></td></tr><tr class=\"row-7 odd\"><td class=\"column-1\"><strong>Surface Temperature: </strong></td><td class=\"column-2\">-87 to -5 °C</td></tr><tr class=\"row-8 even\"><td class=\"column-1\"><strong>First Record:</strong></td><td class=\"column-2\">2nd millennium BC</td></tr><tr class=\"row-9 odd\"><td class=\"column-1\"><strong>Recorded By:</strong></td><td class=\"column-2\">Egyptian astronomers</td></tr></tbody></table></div> </aside><aside id=\"top-posts-2\" class=\"widget widget_top-posts clearfix\"><div class=\"widget-header\"><h3 class=\"widget-title\">Top Pages</h3></div><ul class=\"widgets-list-layout no-grav\"><li> <a href=\"https://space-facts.com/planets/\" title=\"Planet Facts\" class=\"bump-view\" data-bump-view=\"tp\"> <img width=\"40\" height=\"40\" src=\"https://i0.wp.com/space-facts.com/wp-content/uploads/planets-shadow.png?resize=40%2C40&amp;ssl=1\" class=\"widgets-list-layout-blavatar\" alt=\"Planet Facts\" data-pin-nopin=\"true\"> </a><div class=\"widgets-list-layout-links\"> <a href=\"https://space-facts.com/planets/\" class=\"bump-view\" data-bump-view=\"tp\"> Planet Facts </a></div></li><li> <a href=\"https://space-facts.com/mars/\" title=\"Mars Facts\" class=\"bump-view\" data-bump-view=\"tp\"> <img width=\"40\" height=\"40\" src=\"https://i1.wp.com/space-facts.com/wp-content/uploads/mars.jpg?resize=40%2C40&amp;ssl=1\" class=\"widgets-list-layout-blavatar\" alt=\"Mars Facts\" data-pin-nopin=\"true\"> </a><div class=\"widgets-list-layout-links\"> <a href=\"https://space-facts.com/mars/\" class=\"bump-view\" data-bump-view=\"tp\"> Mars Facts </a></div></li><li> <a href=\"https://space-facts.com/mercury/\" title=\"Mercury Facts\" class=\"bump-view\" data-bump-view=\"tp\"> <img width=\"40\" height=\"40\" src=\"https://i0.wp.com/space-facts.com/wp-content/uploads/mercury.png?resize=40%2C40&amp;ssl=1\" class=\"widgets-list-layout-blavatar\" alt=\"Mercury Facts\" data-pin-nopin=\"true\"> </a><div class=\"widgets-list-layout-links\"> <a href=\"https://space-facts.com/mercury/\" class=\"bump-view\" data-bump-view=\"tp\"> Mercury Facts </a></div></li><li> <a href=\"https://space-facts.com/\" title=\"Space Facts\" class=\"bump-view\" data-bump-view=\"tp\"> <img width=\"40\" height=\"40\" src=\"https://i1.wp.com/space-facts.com/wp-content/uploads/favicon.png?resize=40%2C40&amp;ssl=1\" class=\"widgets-list-layout-blavatar\" alt=\"Space Facts\" data-pin-nopin=\"true\"> </a><div class=\"widgets-list-layout-links\"> <a href=\"https://space-facts.com/\" class=\"bump-view\" data-bump-view=\"tp\"> Space Facts </a></div></li><li> <a href=\"https://space-facts.com/earth/\" title=\"Earth Facts\" class=\"bump-view\" data-bump-view=\"tp\"> <img width=\"40\" height=\"40\" src=\"https://i1.wp.com/space-facts.com/wp-content/uploads/earth.png?resize=40%2C40&amp;ssl=1\" class=\"widgets-list-layout-blavatar\" alt=\"Earth Facts\" data-pin-nopin=\"true\"> </a><div class=\"widgets-list-layout-links\"> <a href=\"https://space-facts.com/earth/\" class=\"bump-view\" data-bump-view=\"tp\"> Earth Facts </a></div></li><li> <a href=\"https://space-facts.com/uranus/\" title=\"Uranus Facts\" class=\"bump-view\" data-bump-view=\"tp\"> <img width=\"40\" height=\"40\" src=\"https://i2.wp.com/space-facts.com/wp-content/uploads/uranus.jpg?resize=40%2C40&amp;ssl=1\" class=\"widgets-list-layout-blavatar\" alt=\"Uranus Facts\" data-pin-nopin=\"true\"> </a><div class=\"widgets-list-layout-links\"> <a href=\"https://space-facts.com/uranus/\" class=\"bump-view\" data-bump-view=\"tp\"> Uranus Facts </a></div></li><li> <a href=\"https://space-facts.com/venus/\" title=\"Venus Facts\" class=\"bump-view\" data-bump-view=\"tp\"> <img width=\"40\" height=\"40\" src=\"https://i2.wp.com/space-facts.com/wp-content/uploads/venus.png?resize=40%2C40&amp;ssl=1\" class=\"widgets-list-layout-blavatar\" alt=\"Venus Facts\" data-pin-nopin=\"true\"> </a><div class=\"widgets-list-layout-links\"> <a href=\"https://space-facts.com/venus/\" class=\"bump-view\" data-bump-view=\"tp\"> Venus Facts </a></div></li><li> <a href=\"https://space-facts.com/the-moon/\" title=\"Moon Facts\" class=\"bump-view\" data-bump-view=\"tp\"> <img width=\"40\" height=\"40\" src=\"https://i0.wp.com/space-facts.com/wp-content/uploads/moon.png?resize=40%2C40&amp;ssl=1\" class=\"widgets-list-layout-blavatar\" alt=\"Moon Facts\" data-pin-nopin=\"true\"> </a><div class=\"widgets-list-layout-links\"> <a href=\"https://space-facts.com/the-moon/\" class=\"bump-view\" data-bump-view=\"tp\"> Moon Facts </a></div></li><li> <a href=\"https://space-facts.com/saturn/\" title=\"Saturn Facts\" class=\"bump-view\" data-bump-view=\"tp\"> <img width=\"40\" height=\"40\" src=\"https://i0.wp.com/space-facts.com/wp-content/uploads/saturn.png?resize=40%2C40&amp;ssl=1\" class=\"widgets-list-layout-blavatar\" alt=\"Saturn Facts\" data-pin-nopin=\"true\"> </a><div class=\"widgets-list-layout-links\"> <a href=\"https://space-facts.com/saturn/\" class=\"bump-view\" data-bump-view=\"tp\"> Saturn Facts </a></div></li><li> <a href=\"https://space-facts.com/neptune/\" title=\"Neptune Facts\" class=\"bump-view\" data-bump-view=\"tp\"> <img width=\"40\" height=\"40\" src=\"https://i1.wp.com/space-facts.com/wp-content/uploads/neptune.png?resize=40%2C40&amp;ssl=1\" class=\"widgets-list-layout-blavatar\" alt=\"Neptune Facts\" data-pin-nopin=\"true\"> </a><div class=\"widgets-list-layout-links\"> <a href=\"https://space-facts.com/neptune/\" class=\"bump-view\" data-bump-view=\"tp\"> Neptune Facts </a></div></li></ul> </aside><aside id=\"custom_html-4\" class=\"widget_text widget widget_custom_html clearfix\"><div class=\"textwidget custom-html-widget\"><script async=\"\" src=\"https://pagead2.googlesyndication.com/pagead/js/adsbygoogle.js\"></script> <!-- Sidebar --> <ins class=\"adsbygoogle\" style=\"display: block; height: 600px;\" data-ad-client=\"ca-pub-4251889121233823\" data-ad-slot=\"3223531810\" data-ad-format=\"vertical\" data-full-width-responsive=\"true\" data-adsbygoogle-status=\"done\"><ins id=\"aswift_3_expand\" style=\"display:inline-table;border:none;height:600px;margin:0;padding:0;position:relative;visibility:visible;width:286px;background-color:transparent;\"><ins id=\"aswift_3_anchor\" style=\"display:block;border:none;height:600px;margin:0;padding:0;position:relative;visibility:visible;width:286px;background-color:transparent;\"><iframe width=\"286\" height=\"600\" frameborder=\"0\" marginwidth=\"0\" marginheight=\"0\" vspace=\"0\" hspace=\"0\" allowtransparency=\"true\" scrolling=\"no\" allowfullscreen=\"true\" onload=\"var i=this.id,s=window.google_iframe_oncopy,H=s&amp;&amp;s.handlers,h=H&amp;&amp;H[i],w=this.contentWindow,d;try{d=w.document}catch(e){}if(h&amp;&amp;d&amp;&amp;(!d.body||!d.body.firstChild)){if(h.call){setTimeout(h,0)}else if(h.match){try{h=s.upd(h,i)}catch(e){}w.location.replace(h)}}\" id=\"aswift_3\" name=\"aswift_3\" style=\"left: 0px; position: absolute; top: 0px; border: 0px; width: 286px; height: 600px; overflow: visible;\"></iframe></ins></ins></ins> <script>(adsbygoogle = window.adsbygoogle || []).push({});</script></div></aside> <aside id=\"recent-posts-2\" class=\"widget widget_recent_entries clearfix\"><div class=\"widget-header\"><h3 class=\"widget-title\">Recent Posts</h3></div><ul><li> <a href=\"https://space-facts.com/googles-planet-scale-mistake/\">Google’s Planet Scale Mistake</a></li><li> <a href=\"https://space-facts.com/the-ultimate-list-of-tv-shows-set-in-space-or-on-other-planets/\">The Ultimate List of TV Shows set in Space or on Other Planets</a></li><li> <a href=\"https://space-facts.com/jupiters-galilean-moons-profile-gifs/\">Jupiter’s Galilean Moons (Profile Gifs)</a></li><li> <a href=\"https://space-facts.com/planets-moons-star-wars/\">The Planets and Moons of Star Wars to Scale</a></li><li> <a href=\"https://space-facts.com/planet-orbits/\">Planet Orbits</a></li><li> <a href=\"https://space-facts.com/pluto-information-infographic/\">Pluto Size, Composition, Distance from Sun &amp; Moons</a></li></ul> </aside> </section><!-- #secondary --></div><!-- #content --><div id=\"footer-widgets-wrap\" class=\"footer-widgets-wrap\"><div id=\"footer-widgets\" class=\"footer-widgets container\"><div id=\"footer-widgets-columns\" class=\"footer-widgets-columns clearfix\" role=\"complementary\"><div class=\"footer-widget-column\"></div></div></div></div><div id=\"footer\" class=\"footer-wrap\"> <footer id=\"colophon\" class=\"site-footer container clearfix\" role=\"contentinfo\"><div id=\"footer-text\" class=\"site-info\"> © Copyright 2019 Space Facts</div><!-- .site-info --> <nav id=\"footer-navigation\" class=\"footer-navigation navigation clearfix\" role=\"navigation\"><ul id=\"menu-footer\" class=\"footer-navigation-menu\"><li id=\"menu-item-5584\" class=\"menu-item menu-item-type-post_type menu-item-object-page menu-item-5584\"><a href=\"https://space-facts.com/blog/\">Blog</a></li><li id=\"menu-item-5585\" class=\"menu-item menu-item-type-post_type menu-item-object-page menu-item-5585\"><a href=\"https://space-facts.com/about/\">About</a></li><li id=\"menu-item-5595\" class=\"menu-item menu-item-type-post_type menu-item-object-page menu-item-5595\"><a href=\"https://space-facts.com/contact/\">Contact</a></li><li id=\"menu-item-5589\" class=\"menu-item menu-item-type-post_type menu-item-object-page menu-item-5589\"><a href=\"https://space-facts.com/privacy-policy/\">Privacy Policy</a></li></ul></nav><!-- #footer-navigation --> </footer><!-- #colophon --></div></div><ins class=\"adsbygoogle adsbygoogle-noablate\" data-adsbygoogle-status=\"done\" style=\"display: none !important;\"><ins id=\"aswift_0_expand\" style=\"display:inline-table;border:none;height:0px;margin:0;padding:0;position:relative;visibility:visible;width:0px;background-color:transparent;\"><ins id=\"aswift_0_anchor\" style=\"display:block;border:none;height:0px;margin:0;padding:0;position:relative;visibility:visible;width:0px;background-color:transparent;\"><iframe frameborder=\"0\" marginwidth=\"0\" marginheight=\"0\" vspace=\"0\" hspace=\"0\" allowtransparency=\"true\" scrolling=\"no\" allowfullscreen=\"true\" onload=\"var i=this.id,s=window.google_iframe_oncopy,H=s&amp;&amp;s.handlers,h=H&amp;&amp;H[i],w=this.contentWindow,d;try{d=w.document}catch(e){}if(h&amp;&amp;d&amp;&amp;(!d.body||!d.body.firstChild)){if(h.call){setTimeout(h,0)}else if(h.match){try{h=s.upd(h,i)}catch(e){}w.location.replace(h)}}\" id=\"aswift_0\" name=\"aswift_0\" style=\"left:0;position:absolute;top:0;border:0px;width:0px;height:0px;\"></iframe></ins></ins></ins><!-- #page --> <script type=\"text/javascript\">window.WPCOM_sharing_counts = {\"https:\\\\/\\\\/space-facts.com\\\\/mars\\\\/\":7};</script> <script type=\"text/javascript\" src=\"https://s0.wp.com/wp-content/js/devicepx-jetpack.js\"></script><script type=\"text/javascript\">/*  */\\nvar megamenu = {\"timeout\":\"300\",\"interval\":\"100\"};\\nvar sharing_js_options = {\"lang\":\"en\",\"counts\":\"1\",\"is_stats_active\":\"1\"};\\n/*  */</script> <script type=\"text/javascript\" src=\"https://space-facts.com/wp-content/uploads/cache/fvm/1565948573/out/footer-bd241b6e.min.js\"></script><aside id=\"eu_cookie_law_widget-2\" class=\"widget widget_eu_cookie_law_widget clearfix\" style=\"display: block;\"><div class=\"hide-on-button negative\" data-hide-timeout=\"30\" data-consent-expiration=\"180\" id=\"eu-cookie-law\"><form method=\"post\"> <input type=\"submit\" value=\"Close and accept\" class=\"accept\"></form>Privacy &amp; Cookies: This site uses cookies. By continuing to use this website, you agree to their use. <br> To find out more, including how to control cookies, see here: <a href=\"https://space-facts.com/privacy-policy/\"> Cookie Policy </a></div> </aside><script type=\"text/javascript\" src=\"https://stats.wp.com/e-201935.js\" async=\"async\" defer=\"defer\"></script> <script type=\"text/javascript\">_stq = window._stq || [];\\n\\t_stq.push([ \\'view\\', {v:\\'ext\\',j:\\'1:7.6\\',blog:\\'37359843\\',post:\\'7\\',tz:\\'0\\',srv:\\'space-facts.com\\'} ]);\\n\\t_stq.push([ \\'clickTrackerInit\\', \\'37359843\\', \\'7\\' ]);</script> <img src=\"https://pixel.wp.com/g.gif?v=ext&amp;j=1%3A7.6&amp;blog=37359843&amp;post=7&amp;tz=0&amp;srv=space-facts.com&amp;host=space-facts.com&amp;ref=&amp;fcp=1535&amp;rand=0.6625180747760839\" alt=\":)\" width=\"6\" height=\"5\" id=\"wpstats\"><iframe id=\"google_osd_static_frame_4426364128753\" name=\"google_osd_static_frame\" style=\"display: none; width: 0px; height: 0px;\"></iframe></body><iframe id=\"google_shimpl\" style=\"display: none;\"></iframe><iframe id=\"google_esf\" name=\"google_esf\" src=\"https://googleads.g.doubleclick.net/pagead/html/r20190826/r20190131/zrt_lookup.html#\" data-ad-client=\"ca-pub-4251889121233823\" style=\"display: none;\"></iframe></html>',\n",
       " 'hemispheres': [{'title': 'Valles Marineris Hemisphere Enhanced',\n",
       "   'image': 'https://astrogeology.usgs.gov/cache/images/7cf2da4bf549ed01c17f206327be4db7_valles_marineris_enhanced.tif_full.jpg'},\n",
       "  {'title': 'Valles Marineris Hemisphere Enhanced',\n",
       "   'image': 'https://astrogeology.usgs.gov/cache/images/7cf2da4bf549ed01c17f206327be4db7_valles_marineris_enhanced.tif_full.jpg'},\n",
       "  {'title': 'Valles Marineris Hemisphere Enhanced',\n",
       "   'image': 'https://astrogeology.usgs.gov/cache/images/7cf2da4bf549ed01c17f206327be4db7_valles_marineris_enhanced.tif_full.jpg'},\n",
       "  {'title': 'Valles Marineris Hemisphere Enhanced',\n",
       "   'image': 'https://astrogeology.usgs.gov/cache/images/7cf2da4bf549ed01c17f206327be4db7_valles_marineris_enhanced.tif_full.jpg'}]}"
      ]
     },
     "execution_count": 49,
     "metadata": {},
     "output_type": "execute_result"
    }
   ],
   "source": [
    "mars={\n",
    "        \"latest_news_t\":news_title,\n",
    "        \"latest_news_p\":news_paragraph,\n",
    "        \"featured_img\":featured_image_url,\n",
    "        \"weather_tweet\":mars_weather,\n",
    "        \"facts\":html_facts,\n",
    "        \"hemispheres\":hemisphere_dicts,\n",
    "}\n",
    "mars"
   ]
  },
  {
   "cell_type": "code",
   "execution_count": null,
   "metadata": {},
   "outputs": [],
   "source": []
  }
 ],
 "metadata": {
  "kernelspec": {
   "display_name": "Python 3",
   "language": "python",
   "name": "python3"
  },
  "language_info": {
   "codemirror_mode": {
    "name": "ipython",
    "version": 3
   },
   "file_extension": ".py",
   "mimetype": "text/x-python",
   "name": "python",
   "nbconvert_exporter": "python",
   "pygments_lexer": "ipython3",
   "version": "3.7.3"
  }
 },
 "nbformat": 4,
 "nbformat_minor": 2
}
